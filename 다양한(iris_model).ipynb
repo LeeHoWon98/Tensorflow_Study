{
  "nbformat": 4,
  "nbformat_minor": 0,
  "metadata": {
    "colab": {
      "provenance": []
    },
    "kernelspec": {
      "name": "python3",
      "display_name": "Python 3"
    },
    "language_info": {
      "name": "python"
    }
  },
  "cells": [
    {
      "cell_type": "markdown",
      "source": [
        "##다양한(iris_model)\n",
        "\n",
        "이번에는 기본적으로 제공하는 iris 데이터에 다양한 머신러닝 모델과 딥러닝 모델을\n",
        "\n",
        "비교해보도록 하겠습니다.\n",
        "\n",
        "머신러닝 모델이 더 좋을까요? 딥러닝 모델이 더 좋을까요?"
      ],
      "metadata": {
        "id": "1iAjLwV1bsv5"
      }
    },
    {
      "cell_type": "markdown",
      "source": [
        "---"
      ],
      "metadata": {
        "id": "KXsGIdyQO9iW"
      }
    },
    {
      "cell_type": "markdown",
      "source": [
        "##iris 데이터 로드"
      ],
      "metadata": {
        "id": "6Lk_pD29Omk6"
      }
    },
    {
      "cell_type": "code",
      "execution_count": 1,
      "metadata": {
        "id": "X1hPobeTbj9w"
      },
      "outputs": [],
      "source": [
        "import numpy as np\n",
        "import sklearn\n",
        "from sklearn.datasets import load_iris\n",
        "\n",
        "iris = load_iris()\n",
        "\n",
        "X = iris['data']\n",
        "y = iris['target']"
      ]
    },
    {
      "cell_type": "markdown",
      "source": [
        "---"
      ],
      "metadata": {
        "id": "9_em_x_KO77D"
      }
    },
    {
      "cell_type": "markdown",
      "source": [
        "##데이터 확인\n",
        "\n",
        "데이터를 확인해 본 결과 타겟(y) 값은 0 ~ 2로 나오는 걸 확인하실 수 있습니다."
      ],
      "metadata": {
        "id": "Fe0V11QiOqqK"
      }
    },
    {
      "cell_type": "code",
      "source": [
        "print(y)"
      ],
      "metadata": {
        "colab": {
          "base_uri": "https://localhost:8080/"
        },
        "id": "2ku5AxVmeJ7J",
        "outputId": "bae3b9f1-2cba-466c-bb82-f287e4b96710"
      },
      "execution_count": 2,
      "outputs": [
        {
          "output_type": "stream",
          "name": "stdout",
          "text": [
            "[0 0 0 0 0 0 0 0 0 0 0 0 0 0 0 0 0 0 0 0 0 0 0 0 0 0 0 0 0 0 0 0 0 0 0 0 0\n",
            " 0 0 0 0 0 0 0 0 0 0 0 0 0 1 1 1 1 1 1 1 1 1 1 1 1 1 1 1 1 1 1 1 1 1 1 1 1\n",
            " 1 1 1 1 1 1 1 1 1 1 1 1 1 1 1 1 1 1 1 1 1 1 1 1 1 1 2 2 2 2 2 2 2 2 2 2 2\n",
            " 2 2 2 2 2 2 2 2 2 2 2 2 2 2 2 2 2 2 2 2 2 2 2 2 2 2 2 2 2 2 2 2 2 2 2 2 2\n",
            " 2 2]\n"
          ]
        }
      ]
    },
    {
      "cell_type": "code",
      "source": [
        "print(X)"
      ],
      "metadata": {
        "colab": {
          "base_uri": "https://localhost:8080/"
        },
        "id": "Vvn2CWrveRYA",
        "outputId": "5b9d4de2-c316-4ba9-c1ce-36171d0bef85"
      },
      "execution_count": 3,
      "outputs": [
        {
          "output_type": "stream",
          "name": "stdout",
          "text": [
            "[[5.1 3.5 1.4 0.2]\n",
            " [4.9 3.  1.4 0.2]\n",
            " [4.7 3.2 1.3 0.2]\n",
            " [4.6 3.1 1.5 0.2]\n",
            " [5.  3.6 1.4 0.2]\n",
            " [5.4 3.9 1.7 0.4]\n",
            " [4.6 3.4 1.4 0.3]\n",
            " [5.  3.4 1.5 0.2]\n",
            " [4.4 2.9 1.4 0.2]\n",
            " [4.9 3.1 1.5 0.1]\n",
            " [5.4 3.7 1.5 0.2]\n",
            " [4.8 3.4 1.6 0.2]\n",
            " [4.8 3.  1.4 0.1]\n",
            " [4.3 3.  1.1 0.1]\n",
            " [5.8 4.  1.2 0.2]\n",
            " [5.7 4.4 1.5 0.4]\n",
            " [5.4 3.9 1.3 0.4]\n",
            " [5.1 3.5 1.4 0.3]\n",
            " [5.7 3.8 1.7 0.3]\n",
            " [5.1 3.8 1.5 0.3]\n",
            " [5.4 3.4 1.7 0.2]\n",
            " [5.1 3.7 1.5 0.4]\n",
            " [4.6 3.6 1.  0.2]\n",
            " [5.1 3.3 1.7 0.5]\n",
            " [4.8 3.4 1.9 0.2]\n",
            " [5.  3.  1.6 0.2]\n",
            " [5.  3.4 1.6 0.4]\n",
            " [5.2 3.5 1.5 0.2]\n",
            " [5.2 3.4 1.4 0.2]\n",
            " [4.7 3.2 1.6 0.2]\n",
            " [4.8 3.1 1.6 0.2]\n",
            " [5.4 3.4 1.5 0.4]\n",
            " [5.2 4.1 1.5 0.1]\n",
            " [5.5 4.2 1.4 0.2]\n",
            " [4.9 3.1 1.5 0.2]\n",
            " [5.  3.2 1.2 0.2]\n",
            " [5.5 3.5 1.3 0.2]\n",
            " [4.9 3.6 1.4 0.1]\n",
            " [4.4 3.  1.3 0.2]\n",
            " [5.1 3.4 1.5 0.2]\n",
            " [5.  3.5 1.3 0.3]\n",
            " [4.5 2.3 1.3 0.3]\n",
            " [4.4 3.2 1.3 0.2]\n",
            " [5.  3.5 1.6 0.6]\n",
            " [5.1 3.8 1.9 0.4]\n",
            " [4.8 3.  1.4 0.3]\n",
            " [5.1 3.8 1.6 0.2]\n",
            " [4.6 3.2 1.4 0.2]\n",
            " [5.3 3.7 1.5 0.2]\n",
            " [5.  3.3 1.4 0.2]\n",
            " [7.  3.2 4.7 1.4]\n",
            " [6.4 3.2 4.5 1.5]\n",
            " [6.9 3.1 4.9 1.5]\n",
            " [5.5 2.3 4.  1.3]\n",
            " [6.5 2.8 4.6 1.5]\n",
            " [5.7 2.8 4.5 1.3]\n",
            " [6.3 3.3 4.7 1.6]\n",
            " [4.9 2.4 3.3 1. ]\n",
            " [6.6 2.9 4.6 1.3]\n",
            " [5.2 2.7 3.9 1.4]\n",
            " [5.  2.  3.5 1. ]\n",
            " [5.9 3.  4.2 1.5]\n",
            " [6.  2.2 4.  1. ]\n",
            " [6.1 2.9 4.7 1.4]\n",
            " [5.6 2.9 3.6 1.3]\n",
            " [6.7 3.1 4.4 1.4]\n",
            " [5.6 3.  4.5 1.5]\n",
            " [5.8 2.7 4.1 1. ]\n",
            " [6.2 2.2 4.5 1.5]\n",
            " [5.6 2.5 3.9 1.1]\n",
            " [5.9 3.2 4.8 1.8]\n",
            " [6.1 2.8 4.  1.3]\n",
            " [6.3 2.5 4.9 1.5]\n",
            " [6.1 2.8 4.7 1.2]\n",
            " [6.4 2.9 4.3 1.3]\n",
            " [6.6 3.  4.4 1.4]\n",
            " [6.8 2.8 4.8 1.4]\n",
            " [6.7 3.  5.  1.7]\n",
            " [6.  2.9 4.5 1.5]\n",
            " [5.7 2.6 3.5 1. ]\n",
            " [5.5 2.4 3.8 1.1]\n",
            " [5.5 2.4 3.7 1. ]\n",
            " [5.8 2.7 3.9 1.2]\n",
            " [6.  2.7 5.1 1.6]\n",
            " [5.4 3.  4.5 1.5]\n",
            " [6.  3.4 4.5 1.6]\n",
            " [6.7 3.1 4.7 1.5]\n",
            " [6.3 2.3 4.4 1.3]\n",
            " [5.6 3.  4.1 1.3]\n",
            " [5.5 2.5 4.  1.3]\n",
            " [5.5 2.6 4.4 1.2]\n",
            " [6.1 3.  4.6 1.4]\n",
            " [5.8 2.6 4.  1.2]\n",
            " [5.  2.3 3.3 1. ]\n",
            " [5.6 2.7 4.2 1.3]\n",
            " [5.7 3.  4.2 1.2]\n",
            " [5.7 2.9 4.2 1.3]\n",
            " [6.2 2.9 4.3 1.3]\n",
            " [5.1 2.5 3.  1.1]\n",
            " [5.7 2.8 4.1 1.3]\n",
            " [6.3 3.3 6.  2.5]\n",
            " [5.8 2.7 5.1 1.9]\n",
            " [7.1 3.  5.9 2.1]\n",
            " [6.3 2.9 5.6 1.8]\n",
            " [6.5 3.  5.8 2.2]\n",
            " [7.6 3.  6.6 2.1]\n",
            " [4.9 2.5 4.5 1.7]\n",
            " [7.3 2.9 6.3 1.8]\n",
            " [6.7 2.5 5.8 1.8]\n",
            " [7.2 3.6 6.1 2.5]\n",
            " [6.5 3.2 5.1 2. ]\n",
            " [6.4 2.7 5.3 1.9]\n",
            " [6.8 3.  5.5 2.1]\n",
            " [5.7 2.5 5.  2. ]\n",
            " [5.8 2.8 5.1 2.4]\n",
            " [6.4 3.2 5.3 2.3]\n",
            " [6.5 3.  5.5 1.8]\n",
            " [7.7 3.8 6.7 2.2]\n",
            " [7.7 2.6 6.9 2.3]\n",
            " [6.  2.2 5.  1.5]\n",
            " [6.9 3.2 5.7 2.3]\n",
            " [5.6 2.8 4.9 2. ]\n",
            " [7.7 2.8 6.7 2. ]\n",
            " [6.3 2.7 4.9 1.8]\n",
            " [6.7 3.3 5.7 2.1]\n",
            " [7.2 3.2 6.  1.8]\n",
            " [6.2 2.8 4.8 1.8]\n",
            " [6.1 3.  4.9 1.8]\n",
            " [6.4 2.8 5.6 2.1]\n",
            " [7.2 3.  5.8 1.6]\n",
            " [7.4 2.8 6.1 1.9]\n",
            " [7.9 3.8 6.4 2. ]\n",
            " [6.4 2.8 5.6 2.2]\n",
            " [6.3 2.8 5.1 1.5]\n",
            " [6.1 2.6 5.6 1.4]\n",
            " [7.7 3.  6.1 2.3]\n",
            " [6.3 3.4 5.6 2.4]\n",
            " [6.4 3.1 5.5 1.8]\n",
            " [6.  3.  4.8 1.8]\n",
            " [6.9 3.1 5.4 2.1]\n",
            " [6.7 3.1 5.6 2.4]\n",
            " [6.9 3.1 5.1 2.3]\n",
            " [5.8 2.7 5.1 1.9]\n",
            " [6.8 3.2 5.9 2.3]\n",
            " [6.7 3.3 5.7 2.5]\n",
            " [6.7 3.  5.2 2.3]\n",
            " [6.3 2.5 5.  1.9]\n",
            " [6.5 3.  5.2 2. ]\n",
            " [6.2 3.4 5.4 2.3]\n",
            " [5.9 3.  5.1 1.8]]\n"
          ]
        }
      ]
    },
    {
      "cell_type": "markdown",
      "source": [
        "---"
      ],
      "metadata": {
        "id": "30a8-QrbP9zo"
      }
    },
    {
      "cell_type": "markdown",
      "source": [
        "##데이터 분리\n",
        "\n",
        "모델에 넣어줄 데이터를 분리해줍니다.\n",
        "\n",
        "\n",
        "\n",
        "```\n",
        "from sklearn.model_selection import train_test_split\n",
        "```\n",
        "train_test_split라는 라이브러리를 이용하면 쉽게 분리하실수 있습니다."
      ],
      "metadata": {
        "id": "AvlKaYuDP_rF"
      }
    },
    {
      "cell_type": "code",
      "source": [
        "from sklearn.model_selection import train_test_split\n",
        "\n",
        "X_train, X_test, y_train, y_test = train_test_split(X, y, test_size = 0.2, random_state = 42, stratify = y)\n",
        "print(X_train.shape)\n",
        "print(X_test.shape)\n",
        "print(y_train.shape)\n",
        "print(y_test.shape)"
      ],
      "metadata": {
        "id": "uhC_p83Ifqnm",
        "colab": {
          "base_uri": "https://localhost:8080/"
        },
        "outputId": "c610dfd6-c7bc-49b7-e862-0c47eb557364"
      },
      "execution_count": 4,
      "outputs": [
        {
          "output_type": "stream",
          "name": "stdout",
          "text": [
            "(120, 4)\n",
            "(30, 4)\n",
            "(120,)\n",
            "(30,)\n"
          ]
        }
      ]
    },
    {
      "cell_type": "markdown",
      "source": [
        "---"
      ],
      "metadata": {
        "id": "48DyZn6YQNp-"
      }
    },
    {
      "cell_type": "markdown",
      "source": [
        "## 머신러닝 모델 적용 및 결과 확인\n",
        "\n",
        "model이라는 함수를 만들어서 LogisticRegression, GaussianNB,\n",
        "\n",
        "DecisionTreeClassifier, SVC 4가지 모델에 대해서 성능을 확인 해보겠습니다."
      ],
      "metadata": {
        "id": "KghlnAeTQcTm"
      }
    },
    {
      "cell_type": "code",
      "source": [
        "from sklearn.linear_model import LogisticRegression\n",
        "from sklearn.naive_bayes import GaussianNB\n",
        "from sklearn.tree import DecisionTreeClassifier\n",
        "from sklearn.svm import SVC\n",
        "from sklearn.metrics import classification_report,confusion_matrix\n",
        "\n",
        "def model(x = LogisticRegression):\n",
        "  x = x()\n",
        "  x.fit(X_train,y_train)\n",
        "  y_pred = x.predict(X_test)\n",
        "  print(x, classification_report(y_test,y_pred))"
      ],
      "metadata": {
        "id": "x7jyXjdp_aap"
      },
      "execution_count": 5,
      "outputs": []
    },
    {
      "cell_type": "code",
      "source": [
        "model(LogisticRegression)"
      ],
      "metadata": {
        "colab": {
          "base_uri": "https://localhost:8080/"
        },
        "id": "us-Y3wsFDGEP",
        "outputId": "58bce46d-f74d-40e5-ab1c-2dc8dabef74f"
      },
      "execution_count": 6,
      "outputs": [
        {
          "output_type": "stream",
          "name": "stdout",
          "text": [
            "LogisticRegression()               precision    recall  f1-score   support\n",
            "\n",
            "           0       1.00      1.00      1.00        10\n",
            "           1       1.00      0.90      0.95        10\n",
            "           2       0.91      1.00      0.95        10\n",
            "\n",
            "    accuracy                           0.97        30\n",
            "   macro avg       0.97      0.97      0.97        30\n",
            "weighted avg       0.97      0.97      0.97        30\n",
            "\n"
          ]
        }
      ]
    },
    {
      "cell_type": "code",
      "source": [
        "model(GaussianNB)"
      ],
      "metadata": {
        "colab": {
          "base_uri": "https://localhost:8080/"
        },
        "id": "47juUIANDJhR",
        "outputId": "58ddcf3f-0586-40d6-da02-20065a8fdca0"
      },
      "execution_count": 7,
      "outputs": [
        {
          "output_type": "stream",
          "name": "stdout",
          "text": [
            "GaussianNB()               precision    recall  f1-score   support\n",
            "\n",
            "           0       1.00      1.00      1.00        10\n",
            "           1       1.00      0.90      0.95        10\n",
            "           2       0.91      1.00      0.95        10\n",
            "\n",
            "    accuracy                           0.97        30\n",
            "   macro avg       0.97      0.97      0.97        30\n",
            "weighted avg       0.97      0.97      0.97        30\n",
            "\n"
          ]
        }
      ]
    },
    {
      "cell_type": "code",
      "source": [
        "model(DecisionTreeClassifier)"
      ],
      "metadata": {
        "colab": {
          "base_uri": "https://localhost:8080/"
        },
        "id": "_lBMhQhXDJvw",
        "outputId": "cef3285b-f23e-4220-a15e-40356c554e19"
      },
      "execution_count": 8,
      "outputs": [
        {
          "output_type": "stream",
          "name": "stdout",
          "text": [
            "DecisionTreeClassifier()               precision    recall  f1-score   support\n",
            "\n",
            "           0       1.00      1.00      1.00        10\n",
            "           1       0.90      0.90      0.90        10\n",
            "           2       0.90      0.90      0.90        10\n",
            "\n",
            "    accuracy                           0.93        30\n",
            "   macro avg       0.93      0.93      0.93        30\n",
            "weighted avg       0.93      0.93      0.93        30\n",
            "\n"
          ]
        }
      ]
    },
    {
      "cell_type": "code",
      "source": [
        "model(SVC)"
      ],
      "metadata": {
        "colab": {
          "base_uri": "https://localhost:8080/"
        },
        "id": "sHpT3vhcDKAf",
        "outputId": "52fb1fa7-4a7f-4dfc-8eae-3b6bbf2baa43"
      },
      "execution_count": 9,
      "outputs": [
        {
          "output_type": "stream",
          "name": "stdout",
          "text": [
            "SVC()               precision    recall  f1-score   support\n",
            "\n",
            "           0       1.00      1.00      1.00        10\n",
            "           1       1.00      0.90      0.95        10\n",
            "           2       0.91      1.00      0.95        10\n",
            "\n",
            "    accuracy                           0.97        30\n",
            "   macro avg       0.97      0.97      0.97        30\n",
            "weighted avg       0.97      0.97      0.97        30\n",
            "\n"
          ]
        }
      ]
    },
    {
      "cell_type": "markdown",
      "source": [
        "---"
      ],
      "metadata": {
        "id": "pT37H8g3Qwc9"
      }
    },
    {
      "cell_type": "markdown",
      "source": [
        "##Tensorflow\n",
        "\n",
        "이번에는 딥러닝 기법으로 모델을 만들고 성능을 확인해보겠습니다.\n",
        "\n",
        "딥러닝 모델을 만들시에는 전처리를 약간은 다르게 해 줄 필요가 있습니다."
      ],
      "metadata": {
        "id": "M9xCYgHoQzN-"
      }
    },
    {
      "cell_type": "code",
      "source": [
        "import tensorflow as tf\n",
        "from keras.utils.np_utils import to_categorical\n",
        "\n",
        "iris_label = to_categorical(iris.target)\n",
        "\n",
        "X = iris.data\n",
        "y = iris_label\n",
        "\n",
        "X_train, X_test, y_train, y_test = train_test_split(X, y, test_size = 0.2, random_state = 42, stratify = y)"
      ],
      "metadata": {
        "id": "i46NIq-UDbXs"
      },
      "execution_count": 10,
      "outputs": []
    },
    {
      "cell_type": "markdown",
      "source": [
        "---"
      ],
      "metadata": {
        "id": "pNt7t81KRHDB"
      }
    },
    {
      "cell_type": "markdown",
      "source": [
        "##Sequential API"
      ],
      "metadata": {
        "id": "6fBDRNE8RLQ0"
      }
    },
    {
      "cell_type": "code",
      "source": [
        "from tensorflow import keras\n",
        "from tensorflow.keras import layers\n",
        "from keras.optimizers import Adam\n",
        "\n",
        "model = keras.models.Sequential([\n",
        "    layers.Dense(512, input_dim = 4, activation='relu'),\n",
        "    layers.Dense(256, activation='relu'),\n",
        "    layers.Dense(128, activation='relu'),\n",
        "    layers.Dense(64, activation='relu'),\n",
        "    layers.Dense(32, activation='relu'),\n",
        "    layers.Dense(3, activation='softmax')\n",
        "])\n",
        "\n",
        "model.compile(loss='categorical_crossentropy', optimizer='Adam', metrics=['accuracy'])\n",
        "model.summary()"
      ],
      "metadata": {
        "id": "Y6SJgkvoeq-y",
        "colab": {
          "base_uri": "https://localhost:8080/"
        },
        "outputId": "31cc8ee7-74b5-4f8b-f25c-b322880a0ae4"
      },
      "execution_count": 26,
      "outputs": [
        {
          "output_type": "stream",
          "name": "stdout",
          "text": [
            "Model: \"sequential_2\"\n",
            "_________________________________________________________________\n",
            " Layer (type)                Output Shape              Param #   \n",
            "=================================================================\n",
            " dense_42 (Dense)            (None, 512)               2560      \n",
            "                                                                 \n",
            " dense_43 (Dense)            (None, 256)               131328    \n",
            "                                                                 \n",
            " dense_44 (Dense)            (None, 128)               32896     \n",
            "                                                                 \n",
            " dense_45 (Dense)            (None, 64)                8256      \n",
            "                                                                 \n",
            " dense_46 (Dense)            (None, 32)                2080      \n",
            "                                                                 \n",
            " dense_47 (Dense)            (None, 3)                 99        \n",
            "                                                                 \n",
            "=================================================================\n",
            "Total params: 177,219\n",
            "Trainable params: 177,219\n",
            "Non-trainable params: 0\n",
            "_________________________________________________________________\n"
          ]
        }
      ]
    },
    {
      "cell_type": "markdown",
      "source": [
        "---"
      ],
      "metadata": {
        "id": "V1OOhnJeRNL2"
      }
    },
    {
      "cell_type": "markdown",
      "source": [
        "##Functional API"
      ],
      "metadata": {
        "id": "CdA5KU6jRQIL"
      }
    },
    {
      "cell_type": "code",
      "source": [
        "inputs = keras.Input(shape = (4,))\n",
        "x = layers.Dense(512, activation='relu')(inputs)\n",
        "x = layers.Dense(256, activation='relu')(x)\n",
        "x = layers.Dense(128, activation='relu')(x)\n",
        "x = layers.Dense(64, activation='relu')(x)\n",
        "x = layers.Dense(32, activation='relu')(x)\n",
        "outputs = layers.Dense(3, activation='softmax')(x)\n",
        "\n",
        "model1 = keras.Model(inputs=inputs, outputs=outputs)\n",
        "\n",
        "model1.compile(loss='categorical_crossentropy', optimizer='Adam', metrics=['accuracy'])\n",
        "model1.summary()"
      ],
      "metadata": {
        "colab": {
          "base_uri": "https://localhost:8080/"
        },
        "id": "e4zaLlGXF9J7",
        "outputId": "3ede5a5b-68ae-4e62-e199-78da61d7885c"
      },
      "execution_count": 23,
      "outputs": [
        {
          "output_type": "stream",
          "name": "stdout",
          "text": [
            "Model: \"model_4\"\n",
            "_________________________________________________________________\n",
            " Layer (type)                Output Shape              Param #   \n",
            "=================================================================\n",
            " input_3 (InputLayer)        [(None, 4)]               0         \n",
            "                                                                 \n",
            " dense_36 (Dense)            (None, 512)               2560      \n",
            "                                                                 \n",
            " dense_37 (Dense)            (None, 256)               131328    \n",
            "                                                                 \n",
            " dense_38 (Dense)            (None, 128)               32896     \n",
            "                                                                 \n",
            " dense_39 (Dense)            (None, 64)                8256      \n",
            "                                                                 \n",
            " dense_40 (Dense)            (None, 32)                2080      \n",
            "                                                                 \n",
            " dense_41 (Dense)            (None, 3)                 99        \n",
            "                                                                 \n",
            "=================================================================\n",
            "Total params: 177,219\n",
            "Trainable params: 177,219\n",
            "Non-trainable params: 0\n",
            "_________________________________________________________________\n"
          ]
        }
      ]
    },
    {
      "cell_type": "markdown",
      "source": [
        "---"
      ],
      "metadata": {
        "id": "_n4zp4_lRRrH"
      }
    },
    {
      "cell_type": "markdown",
      "source": [
        "##Subclassing API"
      ],
      "metadata": {
        "id": "uVSugYvKRawc"
      }
    },
    {
      "cell_type": "code",
      "source": [
        "class model(tf.keras.Model):\n",
        "  def __init__(self):\n",
        "    super(model, self).__init__()\n",
        "    self.dense1 = layers.Dense(512, activation='relu')\n",
        "    self.dense2 = layers.Dense(256, activation='relu')\n",
        "    self.dense3 = layers.Dense(128, activation='relu')\n",
        "    self.dense4 = layers.Dense(64, activation='relu')\n",
        "    self.dense5 = layers.Dense(32, activation='relu')\n",
        "    self.dense6 = layers.Dense(3, activation='softmax')\n",
        "\n",
        "  def call(self, x):\n",
        "    x = self.dense1(x)\n",
        "    x = self.dense2(x)\n",
        "    x = self.dense3(x)\n",
        "    x = self.dense4(x)\n",
        "    x = self.dense5(x)\n",
        "    x = self.dense6(x)\n",
        "    return x\n",
        "\n",
        "model2 = model()\n",
        "model2.build(input_shape=(1,4))"
      ],
      "metadata": {
        "id": "V5CTUH7ZH57W"
      },
      "execution_count": 20,
      "outputs": []
    },
    {
      "cell_type": "code",
      "source": [
        "model2.compile(loss='categorical_crossentropy', optimizer='Adam', metrics=['accuracy'])\n",
        "model2.summary()"
      ],
      "metadata": {
        "colab": {
          "base_uri": "https://localhost:8080/"
        },
        "id": "08_0tyICMshm",
        "outputId": "67293f59-3ff1-43bf-d0af-9b3a5cedab9d"
      },
      "execution_count": 21,
      "outputs": [
        {
          "output_type": "stream",
          "name": "stdout",
          "text": [
            "Model: \"model_3\"\n",
            "_________________________________________________________________\n",
            " Layer (type)                Output Shape              Param #   \n",
            "=================================================================\n",
            " dense_30 (Dense)            multiple                  2560      \n",
            "                                                                 \n",
            " dense_31 (Dense)            multiple                  131328    \n",
            "                                                                 \n",
            " dense_32 (Dense)            multiple                  32896     \n",
            "                                                                 \n",
            " dense_33 (Dense)            multiple                  8256      \n",
            "                                                                 \n",
            " dense_34 (Dense)            multiple                  2080      \n",
            "                                                                 \n",
            " dense_35 (Dense)            multiple                  99        \n",
            "                                                                 \n",
            "=================================================================\n",
            "Total params: 177,219\n",
            "Trainable params: 177,219\n",
            "Non-trainable params: 0\n",
            "_________________________________________________________________\n"
          ]
        }
      ]
    },
    {
      "cell_type": "markdown",
      "source": [
        "---"
      ],
      "metadata": {
        "id": "E-NfAU8pRe9M"
      }
    },
    {
      "cell_type": "markdown",
      "source": [
        "## model_train"
      ],
      "metadata": {
        "id": "TEBrX9KYRj2r"
      }
    },
    {
      "cell_type": "code",
      "source": [
        "hist = model.fit(X_train, y_train, validation_data=(X_test, y_test), epochs=10)"
      ],
      "metadata": {
        "colab": {
          "base_uri": "https://localhost:8080/"
        },
        "id": "ATkxuQR-M-NO",
        "outputId": "2593149f-ffe7-4f7b-fa5e-5fa74d920a88"
      },
      "execution_count": 27,
      "outputs": [
        {
          "output_type": "stream",
          "name": "stdout",
          "text": [
            "Epoch 1/10\n",
            "4/4 [==============================] - 1s 52ms/step - loss: 1.0538 - accuracy: 0.6000 - val_loss: 0.8997 - val_accuracy: 0.6333\n",
            "Epoch 2/10\n",
            "4/4 [==============================] - 0s 10ms/step - loss: 0.8600 - accuracy: 0.6417 - val_loss: 0.7020 - val_accuracy: 0.8333\n",
            "Epoch 3/10\n",
            "4/4 [==============================] - 0s 9ms/step - loss: 0.6493 - accuracy: 0.8833 - val_loss: 0.5297 - val_accuracy: 0.9667\n",
            "Epoch 4/10\n",
            "4/4 [==============================] - 0s 10ms/step - loss: 0.4845 - accuracy: 0.9250 - val_loss: 0.4038 - val_accuracy: 0.8667\n",
            "Epoch 5/10\n",
            "4/4 [==============================] - 0s 9ms/step - loss: 0.3830 - accuracy: 0.8917 - val_loss: 0.3140 - val_accuracy: 0.9667\n",
            "Epoch 6/10\n",
            "4/4 [==============================] - 0s 10ms/step - loss: 0.3025 - accuracy: 0.9750 - val_loss: 0.2371 - val_accuracy: 1.0000\n",
            "Epoch 7/10\n",
            "4/4 [==============================] - 0s 9ms/step - loss: 0.2497 - accuracy: 0.9667 - val_loss: 0.1795 - val_accuracy: 1.0000\n",
            "Epoch 8/10\n",
            "4/4 [==============================] - 0s 9ms/step - loss: 0.2187 - accuracy: 0.9500 - val_loss: 0.1621 - val_accuracy: 0.9333\n",
            "Epoch 9/10\n",
            "4/4 [==============================] - 0s 10ms/step - loss: 0.1938 - accuracy: 0.9250 - val_loss: 0.1281 - val_accuracy: 0.9667\n",
            "Epoch 10/10\n",
            "4/4 [==============================] - 0s 11ms/step - loss: 0.1671 - accuracy: 0.9167 - val_loss: 0.1068 - val_accuracy: 0.9667\n"
          ]
        }
      ]
    },
    {
      "cell_type": "code",
      "source": [
        "hist1 = model1.fit(X_train, y_train, validation_data=(X_test, y_test), epochs=10)"
      ],
      "metadata": {
        "colab": {
          "base_uri": "https://localhost:8080/"
        },
        "id": "Ai4oxEWTM0n4",
        "outputId": "6caca994-3a8a-41bc-95a5-2f004432655f"
      },
      "execution_count": 24,
      "outputs": [
        {
          "output_type": "stream",
          "name": "stdout",
          "text": [
            "Epoch 1/10\n",
            "4/4 [==============================] - 1s 52ms/step - loss: 1.0866 - accuracy: 0.4917 - val_loss: 0.9724 - val_accuracy: 0.8333\n",
            "Epoch 2/10\n",
            "4/4 [==============================] - 0s 11ms/step - loss: 0.9356 - accuracy: 0.7167 - val_loss: 0.8182 - val_accuracy: 0.8333\n",
            "Epoch 3/10\n",
            "4/4 [==============================] - 0s 9ms/step - loss: 0.7585 - accuracy: 0.8250 - val_loss: 0.6514 - val_accuracy: 0.9667\n",
            "Epoch 4/10\n",
            "4/4 [==============================] - 0s 11ms/step - loss: 0.6090 - accuracy: 0.9000 - val_loss: 0.5014 - val_accuracy: 0.9000\n",
            "Epoch 5/10\n",
            "4/4 [==============================] - 0s 9ms/step - loss: 0.4574 - accuracy: 0.9417 - val_loss: 0.3766 - val_accuracy: 0.9333\n",
            "Epoch 6/10\n",
            "4/4 [==============================] - 0s 10ms/step - loss: 0.3532 - accuracy: 0.9667 - val_loss: 0.2855 - val_accuracy: 0.9333\n",
            "Epoch 7/10\n",
            "4/4 [==============================] - 0s 12ms/step - loss: 0.2787 - accuracy: 0.9500 - val_loss: 0.2085 - val_accuracy: 0.9667\n",
            "Epoch 8/10\n",
            "4/4 [==============================] - 0s 10ms/step - loss: 0.2220 - accuracy: 0.9333 - val_loss: 0.2172 - val_accuracy: 0.9000\n",
            "Epoch 9/10\n",
            "4/4 [==============================] - 0s 9ms/step - loss: 0.2155 - accuracy: 0.9083 - val_loss: 0.1850 - val_accuracy: 0.9333\n",
            "Epoch 10/10\n",
            "4/4 [==============================] - 0s 10ms/step - loss: 0.2092 - accuracy: 0.9333 - val_loss: 0.1292 - val_accuracy: 0.9333\n"
          ]
        }
      ]
    },
    {
      "cell_type": "code",
      "source": [
        "hist2 = model2.fit(X_train, y_train, validation_data=(X_test, y_test), epochs=10)"
      ],
      "metadata": {
        "colab": {
          "base_uri": "https://localhost:8080/"
        },
        "id": "eHC-8tn8NWCz",
        "outputId": "38f3e5ac-6497-46c5-e840-9efec546e704"
      },
      "execution_count": 28,
      "outputs": [
        {
          "output_type": "stream",
          "name": "stdout",
          "text": [
            "Epoch 1/10\n",
            "4/4 [==============================] - 1s 54ms/step - loss: 1.0372 - accuracy: 0.4917 - val_loss: 0.9245 - val_accuracy: 0.6667\n",
            "Epoch 2/10\n",
            "4/4 [==============================] - 0s 11ms/step - loss: 0.8816 - accuracy: 0.6667 - val_loss: 0.7894 - val_accuracy: 0.6667\n",
            "Epoch 3/10\n",
            "4/4 [==============================] - 0s 9ms/step - loss: 0.7440 - accuracy: 0.6667 - val_loss: 0.6450 - val_accuracy: 0.6667\n",
            "Epoch 4/10\n",
            "4/4 [==============================] - 0s 9ms/step - loss: 0.6055 - accuracy: 0.7167 - val_loss: 0.5066 - val_accuracy: 0.7000\n",
            "Epoch 5/10\n",
            "4/4 [==============================] - 0s 9ms/step - loss: 0.4703 - accuracy: 0.7583 - val_loss: 0.3775 - val_accuracy: 0.9667\n",
            "Epoch 6/10\n",
            "4/4 [==============================] - 0s 9ms/step - loss: 0.3593 - accuracy: 0.9167 - val_loss: 0.2855 - val_accuracy: 0.9667\n",
            "Epoch 7/10\n",
            "4/4 [==============================] - 0s 9ms/step - loss: 0.2781 - accuracy: 0.9750 - val_loss: 0.2188 - val_accuracy: 0.9333\n",
            "Epoch 8/10\n",
            "4/4 [==============================] - 0s 10ms/step - loss: 0.2226 - accuracy: 0.9667 - val_loss: 0.1706 - val_accuracy: 0.9333\n",
            "Epoch 9/10\n",
            "4/4 [==============================] - 0s 11ms/step - loss: 0.1943 - accuracy: 0.9167 - val_loss: 0.1361 - val_accuracy: 0.9667\n",
            "Epoch 10/10\n",
            "4/4 [==============================] - 0s 10ms/step - loss: 0.1821 - accuracy: 0.9333 - val_loss: 0.2081 - val_accuracy: 0.9000\n"
          ]
        }
      ]
    },
    {
      "cell_type": "markdown",
      "source": [
        "---"
      ],
      "metadata": {
        "id": "-c2yWQNXR2Iq"
      }
    },
    {
      "cell_type": "markdown",
      "source": [
        "##model_result\n",
        "\n",
        "음.. 크게 눈에 뛰는 차이는 보이는거 같지 않습니다.\n",
        "\n",
        "역시 상황에 따라서 다양하게 쓰는 방법이 필요할꺼 같습니다.\n",
        "\n"
      ],
      "metadata": {
        "id": "dZUo_RCwRof6"
      }
    },
    {
      "cell_type": "code",
      "source": [
        "def tf_model(x):\n",
        "  y_pred = x.predict(X_test)\n",
        "  y_test_class = np.argmax(y_test,axis=1)\n",
        "  y_pred_class = np.argmax(y_pred,axis=1)\n",
        "\n",
        "  print(classification_report(y_test_class,y_pred_class))"
      ],
      "metadata": {
        "id": "zFv2PizYNo21"
      },
      "execution_count": 29,
      "outputs": []
    },
    {
      "cell_type": "code",
      "source": [
        "tf_model(model)"
      ],
      "metadata": {
        "colab": {
          "base_uri": "https://localhost:8080/"
        },
        "id": "8ATAfUZwOcR-",
        "outputId": "c9d9dab3-a79a-4286-ead6-70e373d88846"
      },
      "execution_count": 30,
      "outputs": [
        {
          "output_type": "stream",
          "name": "stdout",
          "text": [
            "1/1 [==============================] - 0s 188ms/step\n",
            "              precision    recall  f1-score   support\n",
            "\n",
            "           0       1.00      1.00      1.00        10\n",
            "           1       1.00      0.90      0.95        10\n",
            "           2       0.91      1.00      0.95        10\n",
            "\n",
            "    accuracy                           0.97        30\n",
            "   macro avg       0.97      0.97      0.97        30\n",
            "weighted avg       0.97      0.97      0.97        30\n",
            "\n"
          ]
        }
      ]
    },
    {
      "cell_type": "code",
      "source": [
        "tf_model(model1)"
      ],
      "metadata": {
        "colab": {
          "base_uri": "https://localhost:8080/"
        },
        "id": "0dk4Jp0HOesJ",
        "outputId": "56007430-b741-4dff-99ea-ba3396e5ca63"
      },
      "execution_count": 31,
      "outputs": [
        {
          "output_type": "stream",
          "name": "stdout",
          "text": [
            "1/1 [==============================] - 0s 53ms/step\n",
            "              precision    recall  f1-score   support\n",
            "\n",
            "           0       1.00      1.00      1.00        10\n",
            "           1       1.00      0.80      0.89        10\n",
            "           2       0.83      1.00      0.91        10\n",
            "\n",
            "    accuracy                           0.93        30\n",
            "   macro avg       0.94      0.93      0.93        30\n",
            "weighted avg       0.94      0.93      0.93        30\n",
            "\n"
          ]
        }
      ]
    },
    {
      "cell_type": "code",
      "source": [
        "tf_model(model2)"
      ],
      "metadata": {
        "colab": {
          "base_uri": "https://localhost:8080/"
        },
        "id": "ktQzhuEwOgxj",
        "outputId": "491bd588-a1aa-400d-ac16-ea2e8a2df724"
      },
      "execution_count": 32,
      "outputs": [
        {
          "output_type": "stream",
          "name": "stdout",
          "text": [
            "1/1 [==============================] - 0s 56ms/step\n",
            "              precision    recall  f1-score   support\n",
            "\n",
            "           0       1.00      1.00      1.00        10\n",
            "           1       1.00      0.70      0.82        10\n",
            "           2       0.77      1.00      0.87        10\n",
            "\n",
            "    accuracy                           0.90        30\n",
            "   macro avg       0.92      0.90      0.90        30\n",
            "weighted avg       0.92      0.90      0.90        30\n",
            "\n"
          ]
        }
      ]
    }
  ]
}