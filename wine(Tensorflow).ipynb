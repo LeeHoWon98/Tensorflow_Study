{
  "nbformat": 4,
  "nbformat_minor": 0,
  "metadata": {
    "colab": {
      "provenance": [],
      "collapsed_sections": []
    },
    "kernelspec": {
      "name": "python3",
      "display_name": "Python 3"
    },
    "language_info": {
      "name": "python"
    }
  },
  "cells": [
    {
      "cell_type": "markdown",
      "source": [
        "##Wine(Tensorflow)\n",
        "\n"
      ],
      "metadata": {
        "id": "cMGYaKcMGSaF"
      }
    },
    {
      "cell_type": "markdown",
      "source": [
        "###Wine 데이터 로드"
      ],
      "metadata": {
        "id": "CIVs8pG6GjyY"
      }
    },
    {
      "cell_type": "code",
      "execution_count": null,
      "metadata": {
        "id": "XiWH5JeK9T14"
      },
      "outputs": [],
      "source": [
        "from sklearn.datasets import load_wine\n",
        "\n",
        "wine = load_wine()"
      ]
    },
    {
      "cell_type": "markdown",
      "source": [
        "---"
      ],
      "metadata": {
        "id": "8gVRv2YRGog5"
      }
    },
    {
      "cell_type": "markdown",
      "source": [
        "###데이터 확인"
      ],
      "metadata": {
        "id": "EXY6bOPBGpkp"
      }
    },
    {
      "cell_type": "code",
      "source": [
        "# feature\n",
        "print(wine.data)\n",
        "print(wine.feature_names)\n",
        "\n",
        "# label\n",
        "print(wine.target)\n",
        "print(wine.target_names)"
      ],
      "metadata": {
        "colab": {
          "base_uri": "https://localhost:8080/"
        },
        "id": "CrbSosGxLsr8",
        "outputId": "6fb05462-0b01-4beb-9a4d-b54cae86eaf6"
      },
      "execution_count": null,
      "outputs": [
        {
          "output_type": "stream",
          "name": "stdout",
          "text": [
            "[[1.423e+01 1.710e+00 2.430e+00 ... 1.040e+00 3.920e+00 1.065e+03]\n",
            " [1.320e+01 1.780e+00 2.140e+00 ... 1.050e+00 3.400e+00 1.050e+03]\n",
            " [1.316e+01 2.360e+00 2.670e+00 ... 1.030e+00 3.170e+00 1.185e+03]\n",
            " ...\n",
            " [1.327e+01 4.280e+00 2.260e+00 ... 5.900e-01 1.560e+00 8.350e+02]\n",
            " [1.317e+01 2.590e+00 2.370e+00 ... 6.000e-01 1.620e+00 8.400e+02]\n",
            " [1.413e+01 4.100e+00 2.740e+00 ... 6.100e-01 1.600e+00 5.600e+02]]\n",
            "['alcohol', 'malic_acid', 'ash', 'alcalinity_of_ash', 'magnesium', 'total_phenols', 'flavanoids', 'nonflavanoid_phenols', 'proanthocyanins', 'color_intensity', 'hue', 'od280/od315_of_diluted_wines', 'proline']\n",
            "[0 0 0 0 0 0 0 0 0 0 0 0 0 0 0 0 0 0 0 0 0 0 0 0 0 0 0 0 0 0 0 0 0 0 0 0 0\n",
            " 0 0 0 0 0 0 0 0 0 0 0 0 0 0 0 0 0 0 0 0 0 0 1 1 1 1 1 1 1 1 1 1 1 1 1 1 1\n",
            " 1 1 1 1 1 1 1 1 1 1 1 1 1 1 1 1 1 1 1 1 1 1 1 1 1 1 1 1 1 1 1 1 1 1 1 1 1\n",
            " 1 1 1 1 1 1 1 1 1 1 1 1 1 1 1 1 1 1 1 2 2 2 2 2 2 2 2 2 2 2 2 2 2 2 2 2 2\n",
            " 2 2 2 2 2 2 2 2 2 2 2 2 2 2 2 2 2 2 2 2 2 2 2 2 2 2 2 2 2 2]\n",
            "['class_0' 'class_1' 'class_2']\n"
          ]
        }
      ]
    },
    {
      "cell_type": "markdown",
      "source": [
        "---"
      ],
      "metadata": {
        "id": "tQQEwL0MGrUo"
      }
    },
    {
      "cell_type": "markdown",
      "source": [
        "###데이터 분리"
      ],
      "metadata": {
        "id": "KRP8QZViGuoX"
      }
    },
    {
      "cell_type": "code",
      "source": [
        "import tensorflow as tf\n",
        "from keras.utils.np_utils import to_categorical\n",
        "from sklearn.model_selection import train_test_split\n",
        "from tensorflow.keras.utils import to_categorical\n",
        "\n",
        "wine_label = to_categorical(wine.target)\n",
        "\n",
        "X = wine.data\n",
        "y = wine_label\n",
        "\n",
        "X_train, X_test, y_train, y_test = train_test_split(X, y, test_size = 0.2, random_state = 42, stratify = y)\n",
        "\n",
        "print(X_train.shape)\n",
        "print(X_test.shape)\n",
        "print(y_train.shape)\n",
        "print(y_test.shape)"
      ],
      "metadata": {
        "colab": {
          "base_uri": "https://localhost:8080/"
        },
        "id": "_gjWyR-jL3li",
        "outputId": "3baa9259-b821-4552-ac8a-9d3fb8016547"
      },
      "execution_count": null,
      "outputs": [
        {
          "output_type": "stream",
          "name": "stdout",
          "text": [
            "(142, 13)\n",
            "(36, 13)\n",
            "(142, 3)\n",
            "(36, 3)\n"
          ]
        }
      ]
    },
    {
      "cell_type": "markdown",
      "source": [
        "---"
      ],
      "metadata": {
        "id": "e5beM1cVGw8g"
      }
    },
    {
      "cell_type": "markdown",
      "source": [
        "###Sequential API"
      ],
      "metadata": {
        "id": "Unz5JUtEGzR4"
      }
    },
    {
      "cell_type": "code",
      "source": [
        "from tensorflow import keras\n",
        "from tensorflow.keras import layers\n",
        "from keras.optimizers import Adam\n",
        "\n",
        "model1 = keras.models.Sequential([\n",
        "      layers.Dense(512, input_dim = 13, activation='relu'),\n",
        "      layers.Dense(256, activation='relu'),\n",
        "      layers.Dense(128, activation='relu'),\n",
        "      layers.Dense(64, activation='relu'),\n",
        "      layers.Dense(32, activation='relu'),\n",
        "      layers.Dense(3, activation='softmax')\n",
        "])\n",
        "\n",
        "model1.compile(loss='categorical_crossentropy', optimizer='Adam', metrics=['accuracy'])\n",
        "model1.summary()"
      ],
      "metadata": {
        "colab": {
          "base_uri": "https://localhost:8080/"
        },
        "id": "h_oNjLrKPwi5",
        "outputId": "0f66b48e-32bc-4e65-b2ee-61ef74449406"
      },
      "execution_count": null,
      "outputs": [
        {
          "output_type": "stream",
          "name": "stdout",
          "text": [
            "Model: \"sequential\"\n",
            "_________________________________________________________________\n",
            " Layer (type)                Output Shape              Param #   \n",
            "=================================================================\n",
            " dense (Dense)               (None, 512)               7168      \n",
            "                                                                 \n",
            " dense_1 (Dense)             (None, 256)               131328    \n",
            "                                                                 \n",
            " dense_2 (Dense)             (None, 128)               32896     \n",
            "                                                                 \n",
            " dense_3 (Dense)             (None, 64)                8256      \n",
            "                                                                 \n",
            " dense_4 (Dense)             (None, 32)                2080      \n",
            "                                                                 \n",
            " dense_5 (Dense)             (None, 3)                 99        \n",
            "                                                                 \n",
            "=================================================================\n",
            "Total params: 181,827\n",
            "Trainable params: 181,827\n",
            "Non-trainable params: 0\n",
            "_________________________________________________________________\n"
          ]
        }
      ]
    },
    {
      "cell_type": "markdown",
      "source": [
        "----"
      ],
      "metadata": {
        "id": "QJ1n17AOG1P3"
      }
    },
    {
      "cell_type": "markdown",
      "source": [
        "###Functional API"
      ],
      "metadata": {
        "id": "ixvFv8h3G2RE"
      }
    },
    {
      "cell_type": "code",
      "source": [
        "inputs = keras.Input(shape = (13,))\n",
        "x = layers.Dense(512, activation='relu')(inputs)\n",
        "x = layers.Dense(256, activation='relu')(x)\n",
        "x = layers.Dense(128, activation='relu')(x)\n",
        "x = layers.Dense(64, activation='relu')(x)\n",
        "x = layers.Dense(32, activation='relu')(x)\n",
        "outputs = layers.Dense(3, activation='softmax')(x)\n",
        "\n",
        "model2 = keras.Model(inputs=inputs, outputs=outputs)\n",
        "\n",
        "model2.compile(loss='categorical_crossentropy', optimizer='Adam', metrics=['accuracy'])\n",
        "model2.summary()"
      ],
      "metadata": {
        "colab": {
          "base_uri": "https://localhost:8080/"
        },
        "id": "CAZkz4mqRDBd",
        "outputId": "311cc1eb-0d2d-4315-9ea3-dbee483f73cb"
      },
      "execution_count": null,
      "outputs": [
        {
          "output_type": "stream",
          "name": "stdout",
          "text": [
            "Model: \"model\"\n",
            "_________________________________________________________________\n",
            " Layer (type)                Output Shape              Param #   \n",
            "=================================================================\n",
            " input_1 (InputLayer)        [(None, 13)]              0         \n",
            "                                                                 \n",
            " dense_6 (Dense)             (None, 512)               7168      \n",
            "                                                                 \n",
            " dense_7 (Dense)             (None, 256)               131328    \n",
            "                                                                 \n",
            " dense_8 (Dense)             (None, 128)               32896     \n",
            "                                                                 \n",
            " dense_9 (Dense)             (None, 64)                8256      \n",
            "                                                                 \n",
            " dense_10 (Dense)            (None, 32)                2080      \n",
            "                                                                 \n",
            " dense_11 (Dense)            (None, 3)                 99        \n",
            "                                                                 \n",
            "=================================================================\n",
            "Total params: 181,827\n",
            "Trainable params: 181,827\n",
            "Non-trainable params: 0\n",
            "_________________________________________________________________\n"
          ]
        }
      ]
    },
    {
      "cell_type": "markdown",
      "source": [
        "---"
      ],
      "metadata": {
        "id": "XW7PCEyJG42w"
      }
    },
    {
      "cell_type": "markdown",
      "source": [
        "###Subclassing API"
      ],
      "metadata": {
        "id": "nICRJVUbG6fc"
      }
    },
    {
      "cell_type": "code",
      "source": [
        "class model(tf.keras.Model):\n",
        "  def __init__(self):\n",
        "    super(model, self).__init__()\n",
        "    self.dense1 = layers.Dense(512, activation='relu')\n",
        "    self.dense2 = layers.Dense(256, activation='relu')\n",
        "    self.dense3 = layers.Dense(128, activation='relu')\n",
        "    self.dense4 = layers.Dense(64, activation='relu')\n",
        "    self.dense5 = layers.Dense(32, activation='relu')\n",
        "    self.dense6 = layers.Dense(3, activation='softmax')\n",
        "\n",
        "  def call(self, x):\n",
        "    x = self.dense1(x)\n",
        "    x = self.dense2(x)\n",
        "    x = self.dense3(x)\n",
        "    x = self.dense4(x)\n",
        "    x = self.dense5(x)\n",
        "    x = self.dense6(x)\n",
        "    return X\n",
        "\n",
        "model3 = model()\n",
        "model3.build(input_shape=(1, 13))\n",
        "model3.compile(loss='categorical_crossentropy', optimizer='Adam', metrics=['accuracy'])\n",
        "model3.summary()"
      ],
      "metadata": {
        "colab": {
          "base_uri": "https://localhost:8080/"
        },
        "id": "uLmdQF7md2dV",
        "outputId": "116c3feb-e1fd-433a-cf3a-593c05b07a31"
      },
      "execution_count": null,
      "outputs": [
        {
          "output_type": "stream",
          "name": "stdout",
          "text": [
            "Model: \"model_2\"\n",
            "_________________________________________________________________\n",
            " Layer (type)                Output Shape              Param #   \n",
            "=================================================================\n",
            " dense_30 (Dense)            multiple                  7168      \n",
            "                                                                 \n",
            " dense_31 (Dense)            multiple                  131328    \n",
            "                                                                 \n",
            " dense_32 (Dense)            multiple                  32896     \n",
            "                                                                 \n",
            " dense_33 (Dense)            multiple                  8256      \n",
            "                                                                 \n",
            " dense_34 (Dense)            multiple                  2080      \n",
            "                                                                 \n",
            " dense_35 (Dense)            multiple                  99        \n",
            "                                                                 \n",
            "=================================================================\n",
            "Total params: 181,827\n",
            "Trainable params: 181,827\n",
            "Non-trainable params: 0\n",
            "_________________________________________________________________\n"
          ]
        }
      ]
    },
    {
      "cell_type": "markdown",
      "source": [
        "---"
      ],
      "metadata": {
        "id": "a7zQGBvGG8Hw"
      }
    },
    {
      "cell_type": "markdown",
      "source": [
        "###Model 학습\n",
        "\n",
        "Subclassing API방식으로 만든 모델은 학습 도중 오류가 발생하였습니다.(추후 수정 예정)"
      ],
      "metadata": {
        "id": "zWe2eLIKG9CA"
      }
    },
    {
      "cell_type": "code",
      "source": [
        "hist = model1.fit(X_train, y_train, validation_data=(X_test, y_test), epochs=10)"
      ],
      "metadata": {
        "colab": {
          "base_uri": "https://localhost:8080/"
        },
        "id": "37WqMXZuhumX",
        "outputId": "9a78850c-bbb9-49c1-d500-0e486e2b27ff"
      },
      "execution_count": null,
      "outputs": [
        {
          "output_type": "stream",
          "name": "stdout",
          "text": [
            "Epoch 1/10\n",
            "5/5 [==============================] - 1s 64ms/step - loss: 14.5206 - accuracy: 0.3944 - val_loss: 3.7017 - val_accuracy: 0.2778\n",
            "Epoch 2/10\n",
            "5/5 [==============================] - 0s 13ms/step - loss: 2.4833 - accuracy: 0.3803 - val_loss: 1.0490 - val_accuracy: 0.5278\n",
            "Epoch 3/10\n",
            "5/5 [==============================] - 0s 11ms/step - loss: 1.1858 - accuracy: 0.3944 - val_loss: 1.9509 - val_accuracy: 0.3889\n",
            "Epoch 4/10\n",
            "5/5 [==============================] - 0s 12ms/step - loss: 1.2325 - accuracy: 0.5282 - val_loss: 0.8347 - val_accuracy: 0.4722\n",
            "Epoch 5/10\n",
            "5/5 [==============================] - 0s 16ms/step - loss: 1.5071 - accuracy: 0.4577 - val_loss: 1.6488 - val_accuracy: 0.3056\n",
            "Epoch 6/10\n",
            "5/5 [==============================] - 0s 11ms/step - loss: 1.1312 - accuracy: 0.5282 - val_loss: 0.7187 - val_accuracy: 0.6667\n",
            "Epoch 7/10\n",
            "5/5 [==============================] - 0s 15ms/step - loss: 0.8148 - accuracy: 0.5423 - val_loss: 0.9611 - val_accuracy: 0.5833\n",
            "Epoch 8/10\n",
            "5/5 [==============================] - 0s 12ms/step - loss: 0.7286 - accuracy: 0.6408 - val_loss: 0.8267 - val_accuracy: 0.5833\n",
            "Epoch 9/10\n",
            "5/5 [==============================] - 0s 13ms/step - loss: 0.8186 - accuracy: 0.5915 - val_loss: 0.8109 - val_accuracy: 0.6667\n",
            "Epoch 10/10\n",
            "5/5 [==============================] - 0s 13ms/step - loss: 0.8705 - accuracy: 0.6268 - val_loss: 1.2515 - val_accuracy: 0.6111\n"
          ]
        }
      ]
    },
    {
      "cell_type": "code",
      "source": [
        "hist1 = model2.fit(X_train, y_train, validation_data=(X_test, y_test), epochs=10)"
      ],
      "metadata": {
        "colab": {
          "base_uri": "https://localhost:8080/"
        },
        "id": "guJFTRyRhx7h",
        "outputId": "45d3c387-df69-4d77-91d6-8a4bd992c282"
      },
      "execution_count": null,
      "outputs": [
        {
          "output_type": "stream",
          "name": "stdout",
          "text": [
            "Epoch 1/10\n",
            "5/5 [==============================] - 1s 62ms/step - loss: 10.4298 - accuracy: 0.3521 - val_loss: 2.1457 - val_accuracy: 0.5556\n",
            "Epoch 2/10\n",
            "5/5 [==============================] - 0s 11ms/step - loss: 2.5722 - accuracy: 0.3451 - val_loss: 1.2377 - val_accuracy: 0.6667\n",
            "Epoch 3/10\n",
            "5/5 [==============================] - 0s 11ms/step - loss: 1.5602 - accuracy: 0.4507 - val_loss: 2.1838 - val_accuracy: 0.3889\n",
            "Epoch 4/10\n",
            "5/5 [==============================] - 0s 12ms/step - loss: 2.1044 - accuracy: 0.4718 - val_loss: 1.4208 - val_accuracy: 0.5556\n",
            "Epoch 5/10\n",
            "5/5 [==============================] - 0s 11ms/step - loss: 1.6640 - accuracy: 0.4930 - val_loss: 1.4251 - val_accuracy: 0.6667\n",
            "Epoch 6/10\n",
            "5/5 [==============================] - 0s 13ms/step - loss: 1.4785 - accuracy: 0.5000 - val_loss: 1.6531 - val_accuracy: 0.6111\n",
            "Epoch 7/10\n",
            "5/5 [==============================] - 0s 11ms/step - loss: 1.8562 - accuracy: 0.6338 - val_loss: 0.9904 - val_accuracy: 0.4722\n",
            "Epoch 8/10\n",
            "5/5 [==============================] - 0s 12ms/step - loss: 1.2162 - accuracy: 0.5845 - val_loss: 1.0047 - val_accuracy: 0.6389\n",
            "Epoch 9/10\n",
            "5/5 [==============================] - 0s 11ms/step - loss: 1.0593 - accuracy: 0.5775 - val_loss: 0.8381 - val_accuracy: 0.6667\n",
            "Epoch 10/10\n",
            "5/5 [==============================] - 0s 12ms/step - loss: 0.8298 - accuracy: 0.6338 - val_loss: 1.2053 - val_accuracy: 0.5556\n"
          ]
        }
      ]
    },
    {
      "cell_type": "code",
      "source": [
        "hist3 = model3.fit(X_train, y_train, validation_data=(X_test, y_test), epochs=10)"
      ],
      "metadata": {
        "colab": {
          "base_uri": "https://localhost:8080/",
          "height": 725
        },
        "id": "veSUTuuHh2gd",
        "outputId": "15257afa-a8a0-4b60-bc87-1ae761c0a694"
      },
      "execution_count": null,
      "outputs": [
        {
          "output_type": "stream",
          "name": "stdout",
          "text": [
            "Epoch 1/10\n"
          ]
        },
        {
          "output_type": "error",
          "ename": "AttributeError",
          "evalue": "ignored",
          "traceback": [
            "\u001b[0;31m---------------------------------------------------------------------------\u001b[0m",
            "\u001b[0;31mAttributeError\u001b[0m                            Traceback (most recent call last)",
            "\u001b[0;32m<ipython-input-22-c62d423268b2>\u001b[0m in \u001b[0;36m<module>\u001b[0;34m\u001b[0m\n\u001b[0;32m----> 1\u001b[0;31m \u001b[0mhist3\u001b[0m \u001b[0;34m=\u001b[0m \u001b[0mmodel3\u001b[0m\u001b[0;34m.\u001b[0m\u001b[0mfit\u001b[0m\u001b[0;34m(\u001b[0m\u001b[0mX_train\u001b[0m\u001b[0;34m,\u001b[0m \u001b[0my_train\u001b[0m\u001b[0;34m,\u001b[0m \u001b[0mvalidation_data\u001b[0m\u001b[0;34m=\u001b[0m\u001b[0;34m(\u001b[0m\u001b[0mX_test\u001b[0m\u001b[0;34m,\u001b[0m \u001b[0my_test\u001b[0m\u001b[0;34m)\u001b[0m\u001b[0;34m,\u001b[0m \u001b[0mepochs\u001b[0m\u001b[0;34m=\u001b[0m\u001b[0;36m10\u001b[0m\u001b[0;34m)\u001b[0m\u001b[0;34m\u001b[0m\u001b[0;34m\u001b[0m\u001b[0m\n\u001b[0m",
            "\u001b[0;32m/usr/local/lib/python3.7/dist-packages/keras/utils/traceback_utils.py\u001b[0m in \u001b[0;36merror_handler\u001b[0;34m(*args, **kwargs)\u001b[0m\n\u001b[1;32m     65\u001b[0m     \u001b[0;32mexcept\u001b[0m \u001b[0mException\u001b[0m \u001b[0;32mas\u001b[0m \u001b[0me\u001b[0m\u001b[0;34m:\u001b[0m  \u001b[0;31m# pylint: disable=broad-except\u001b[0m\u001b[0;34m\u001b[0m\u001b[0;34m\u001b[0m\u001b[0m\n\u001b[1;32m     66\u001b[0m       \u001b[0mfiltered_tb\u001b[0m \u001b[0;34m=\u001b[0m \u001b[0m_process_traceback_frames\u001b[0m\u001b[0;34m(\u001b[0m\u001b[0me\u001b[0m\u001b[0;34m.\u001b[0m\u001b[0m__traceback__\u001b[0m\u001b[0;34m)\u001b[0m\u001b[0;34m\u001b[0m\u001b[0;34m\u001b[0m\u001b[0m\n\u001b[0;32m---> 67\u001b[0;31m       \u001b[0;32mraise\u001b[0m \u001b[0me\u001b[0m\u001b[0;34m.\u001b[0m\u001b[0mwith_traceback\u001b[0m\u001b[0;34m(\u001b[0m\u001b[0mfiltered_tb\u001b[0m\u001b[0;34m)\u001b[0m \u001b[0;32mfrom\u001b[0m \u001b[0;32mNone\u001b[0m\u001b[0;34m\u001b[0m\u001b[0;34m\u001b[0m\u001b[0m\n\u001b[0m\u001b[1;32m     68\u001b[0m     \u001b[0;32mfinally\u001b[0m\u001b[0;34m:\u001b[0m\u001b[0;34m\u001b[0m\u001b[0;34m\u001b[0m\u001b[0m\n\u001b[1;32m     69\u001b[0m       \u001b[0;32mdel\u001b[0m \u001b[0mfiltered_tb\u001b[0m\u001b[0;34m\u001b[0m\u001b[0;34m\u001b[0m\u001b[0m\n",
            "\u001b[0;32m/usr/local/lib/python3.7/dist-packages/keras/engine/training.py\u001b[0m in \u001b[0;36mtf__train_function\u001b[0;34m(iterator)\u001b[0m\n\u001b[1;32m     13\u001b[0m                 \u001b[0;32mtry\u001b[0m\u001b[0;34m:\u001b[0m\u001b[0;34m\u001b[0m\u001b[0;34m\u001b[0m\u001b[0m\n\u001b[1;32m     14\u001b[0m                     \u001b[0mdo_return\u001b[0m \u001b[0;34m=\u001b[0m \u001b[0;32mTrue\u001b[0m\u001b[0;34m\u001b[0m\u001b[0;34m\u001b[0m\u001b[0m\n\u001b[0;32m---> 15\u001b[0;31m                     \u001b[0mretval_\u001b[0m \u001b[0;34m=\u001b[0m \u001b[0mag__\u001b[0m\u001b[0;34m.\u001b[0m\u001b[0mconverted_call\u001b[0m\u001b[0;34m(\u001b[0m\u001b[0mag__\u001b[0m\u001b[0;34m.\u001b[0m\u001b[0mld\u001b[0m\u001b[0;34m(\u001b[0m\u001b[0mstep_function\u001b[0m\u001b[0;34m)\u001b[0m\u001b[0;34m,\u001b[0m \u001b[0;34m(\u001b[0m\u001b[0mag__\u001b[0m\u001b[0;34m.\u001b[0m\u001b[0mld\u001b[0m\u001b[0;34m(\u001b[0m\u001b[0mself\u001b[0m\u001b[0;34m)\u001b[0m\u001b[0;34m,\u001b[0m \u001b[0mag__\u001b[0m\u001b[0;34m.\u001b[0m\u001b[0mld\u001b[0m\u001b[0;34m(\u001b[0m\u001b[0miterator\u001b[0m\u001b[0;34m)\u001b[0m\u001b[0;34m)\u001b[0m\u001b[0;34m,\u001b[0m \u001b[0;32mNone\u001b[0m\u001b[0;34m,\u001b[0m \u001b[0mfscope\u001b[0m\u001b[0;34m)\u001b[0m\u001b[0;34m\u001b[0m\u001b[0;34m\u001b[0m\u001b[0m\n\u001b[0m\u001b[1;32m     16\u001b[0m                 \u001b[0;32mexcept\u001b[0m\u001b[0;34m:\u001b[0m\u001b[0;34m\u001b[0m\u001b[0;34m\u001b[0m\u001b[0m\n\u001b[1;32m     17\u001b[0m                     \u001b[0mdo_return\u001b[0m \u001b[0;34m=\u001b[0m \u001b[0;32mFalse\u001b[0m\u001b[0;34m\u001b[0m\u001b[0;34m\u001b[0m\u001b[0m\n",
            "\u001b[0;31mAttributeError\u001b[0m: in user code:\n\n    File \"/usr/local/lib/python3.7/dist-packages/keras/engine/training.py\", line 1051, in train_function  *\n        return step_function(self, iterator)\n    File \"/usr/local/lib/python3.7/dist-packages/keras/engine/training.py\", line 1040, in step_function  **\n        outputs = model.distribute_strategy.run(run_step, args=(data,))\n    File \"/usr/local/lib/python3.7/dist-packages/keras/engine/training.py\", line 1030, in run_step  **\n        outputs = model.train_step(data)\n    File \"/usr/local/lib/python3.7/dist-packages/keras/engine/training.py\", line 890, in train_step\n        loss = self.compute_loss(x, y, y_pred, sample_weight)\n    File \"/usr/local/lib/python3.7/dist-packages/keras/engine/training.py\", line 949, in compute_loss\n        y, y_pred, sample_weight, regularization_losses=self.losses)\n    File \"/usr/local/lib/python3.7/dist-packages/keras/engine/compile_utils.py\", line 199, in __call__\n        y_t, y_p, sw = match_dtype_and_rank(y_t, y_p, sw)\n    File \"/usr/local/lib/python3.7/dist-packages/keras/engine/compile_utils.py\", line 727, in match_dtype_and_rank\n        (y_t.dtype.is_integer and y_p.dtype.is_integer)):\n\n    AttributeError: 'numpy.dtype[float64]' object has no attribute 'is_integer'\n"
          ]
        }
      ]
    },
    {
      "cell_type": "markdown",
      "source": [
        "---"
      ],
      "metadata": {
        "id": "O6SmJBSyHI8l"
      }
    },
    {
      "cell_type": "markdown",
      "source": [
        "###결과 확인"
      ],
      "metadata": {
        "id": "D1gMTzDvHKMp"
      }
    },
    {
      "cell_type": "code",
      "source": [
        "from sklearn.metrics import classification_report,confusion_matrix\n",
        "import numpy as np\n",
        "\n",
        "def tf_model(x):\n",
        "  y_pred = x.predict(X_test)\n",
        "  y_test_class = np.argmax(y_test,axis=1)\n",
        "  y_pred_class = np.argmax(y_pred,axis=1)\n",
        "\n",
        "  print(classification_report(y_test_class,y_pred_class))"
      ],
      "metadata": {
        "id": "QWn0rpYDh5fR"
      },
      "execution_count": null,
      "outputs": []
    },
    {
      "cell_type": "code",
      "source": [
        "tf_model(model1)"
      ],
      "metadata": {
        "colab": {
          "base_uri": "https://localhost:8080/"
        },
        "id": "XPLIqZoEkyrh",
        "outputId": "85a95316-9f7d-44dc-eedf-b46a3c124e5c"
      },
      "execution_count": null,
      "outputs": [
        {
          "output_type": "stream",
          "name": "stdout",
          "text": [
            "2/2 [==============================] - 0s 7ms/step\n",
            "              precision    recall  f1-score   support\n",
            "\n",
            "           0       1.00      0.67      0.80        12\n",
            "           1       0.50      1.00      0.67        14\n",
            "           2       0.00      0.00      0.00        10\n",
            "\n",
            "    accuracy                           0.61        36\n",
            "   macro avg       0.50      0.56      0.49        36\n",
            "weighted avg       0.53      0.61      0.53        36\n",
            "\n"
          ]
        },
        {
          "output_type": "stream",
          "name": "stderr",
          "text": [
            "/usr/local/lib/python3.7/dist-packages/sklearn/metrics/_classification.py:1318: UndefinedMetricWarning: Precision and F-score are ill-defined and being set to 0.0 in labels with no predicted samples. Use `zero_division` parameter to control this behavior.\n",
            "  _warn_prf(average, modifier, msg_start, len(result))\n",
            "/usr/local/lib/python3.7/dist-packages/sklearn/metrics/_classification.py:1318: UndefinedMetricWarning: Precision and F-score are ill-defined and being set to 0.0 in labels with no predicted samples. Use `zero_division` parameter to control this behavior.\n",
            "  _warn_prf(average, modifier, msg_start, len(result))\n",
            "/usr/local/lib/python3.7/dist-packages/sklearn/metrics/_classification.py:1318: UndefinedMetricWarning: Precision and F-score are ill-defined and being set to 0.0 in labels with no predicted samples. Use `zero_division` parameter to control this behavior.\n",
            "  _warn_prf(average, modifier, msg_start, len(result))\n"
          ]
        }
      ]
    },
    {
      "cell_type": "code",
      "source": [
        "tf_model(model2)"
      ],
      "metadata": {
        "colab": {
          "base_uri": "https://localhost:8080/"
        },
        "id": "eGxkkac3lDHI",
        "outputId": "0eb3d12c-222a-458e-9389-12e8c4d8038f"
      },
      "execution_count": null,
      "outputs": [
        {
          "output_type": "stream",
          "name": "stdout",
          "text": [
            "2/2 [==============================] - 0s 10ms/step\n",
            "              precision    recall  f1-score   support\n",
            "\n",
            "           0       1.00      0.75      0.86        12\n",
            "           1       0.83      0.36      0.50        14\n",
            "           2       0.43      0.90      0.58        10\n",
            "\n",
            "    accuracy                           0.64        36\n",
            "   macro avg       0.75      0.67      0.65        36\n",
            "weighted avg       0.78      0.64      0.64        36\n",
            "\n"
          ]
        }
      ]
    }
  ]
}