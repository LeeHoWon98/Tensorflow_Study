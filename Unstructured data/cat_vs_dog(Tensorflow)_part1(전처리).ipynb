{
  "nbformat": 4,
  "nbformat_minor": 0,
  "metadata": {
    "colab": {
      "provenance": []
    },
    "kernelspec": {
      "name": "python3",
      "display_name": "Python 3"
    },
    "language_info": {
      "name": "python"
    },
    "gpuClass": "standard"
  },
  "cells": [
    {
      "cell_type": "markdown",
      "source": [
        "##cat vs dog(Tensorflow)_part1(전처리)\n",
        "\n",
        "이번에는 텐서플로우 이미지를 다루기에 기본이라고 알려진\n",
        "\n",
        "개, 고양이 분류 모델을 한번 만들어보겠습니다.\n",
        "\n",
        "데이터는 https://www.kaggle.com/c/dogs-vs-cats <- 이쪽에서 받았습니다.\n",
        "\n",
        "데이터가 상당히 난잡하여 데이터부터 전처리를 하고 모델을 만들어볼께요"
      ],
      "metadata": {
        "id": "aCKcmjFyeY3z"
      }
    },
    {
      "cell_type": "markdown",
      "source": [
        "###구글 드라이브 임포트\n",
        "\n",
        "구글드라이브에 개, 고양이 파일을 올려놓아서 임포트 시킵니다."
      ],
      "metadata": {
        "id": "dEXwv8eHfQjC"
      }
    },
    {
      "cell_type": "code",
      "execution_count": 2,
      "metadata": {
        "colab": {
          "base_uri": "https://localhost:8080/"
        },
        "id": "WT3EMjU53EPs",
        "outputId": "de2ab600-743d-447e-fa80-a046e0f78d9d"
      },
      "outputs": [
        {
          "output_type": "stream",
          "name": "stdout",
          "text": [
            "Mounted at drive\n"
          ]
        }
      ],
      "source": [
        "from google.colab import drive\n",
        "drive.mount('drive')"
      ]
    },
    {
      "cell_type": "markdown",
      "source": [
        "---"
      ],
      "metadata": {
        "id": "lnaZM8xnWrpq"
      }
    },
    {
      "cell_type": "markdown",
      "source": [
        "###압축풀기\n",
        "\n",
        "해당파일은 zip파일 형식으로 되어있어 압축을 풀어줍니다."
      ],
      "metadata": {
        "id": "hRvu1GjOfX44"
      }
    },
    {
      "cell_type": "code",
      "source": [
        "%cd \"/content/drive/MyDrive/pic/cat_dog\"\n",
        "!unzip \"test1.zip\""
      ],
      "metadata": {
        "id": "qJtZx9h03aTx"
      },
      "execution_count": null,
      "outputs": []
    },
    {
      "cell_type": "code",
      "source": [
        "%cd \"/content/drive/MyDrive/pic/cat_dog\"\n",
        "!unzip \"train.zip\""
      ],
      "metadata": {
        "id": "7G95a_7fDmZP"
      },
      "execution_count": null,
      "outputs": []
    },
    {
      "cell_type": "markdown",
      "source": [
        "---"
      ],
      "metadata": {
        "id": "7HGlHN84Wsq9"
      }
    },
    {
      "cell_type": "markdown",
      "source": [
        "###데이터 갯수 확인\n",
        "\n",
        "압축을 풀고 전체 데이터 갯수를 알아봅시다."
      ],
      "metadata": {
        "id": "YEdkFRkofx_A"
      }
    },
    {
      "cell_type": "code",
      "source": [
        "import os\n",
        "\n",
        "DIR_IN = \"/content/drive/MyDrive/pic/cat_dog/train\"\n",
        "\n",
        "file_list = os.listdir(DIR_IN)\n",
        "file_list_jpg = [file for file in file_list]\n",
        "file_list_jpg.sort()"
      ],
      "metadata": {
        "id": "bRUbK2YD4vBO"
      },
      "execution_count": 4,
      "outputs": []
    },
    {
      "cell_type": "code",
      "source": [
        "len(file_list_jpg)"
      ],
      "metadata": {
        "colab": {
          "base_uri": "https://localhost:8080/"
        },
        "id": "9eNkhBI59hpY",
        "outputId": "604d36cb-9685-4b1c-aa20-1a245c3cb878"
      },
      "execution_count": 5,
      "outputs": [
        {
          "output_type": "execute_result",
          "data": {
            "text/plain": [
              "25000"
            ]
          },
          "metadata": {},
          "execution_count": 5
        }
      ]
    },
    {
      "cell_type": "code",
      "source": [
        "DIR_IN = \"/content/drive/MyDrive/pic/cat_dog/test1\"\n",
        "\n",
        "file_list_test = os.listdir(DIR_IN)\n",
        "file_list_jpg = [file for file in file_list_test]\n",
        "file_list_jpg.sort()"
      ],
      "metadata": {
        "id": "Gna_rI149jjC"
      },
      "execution_count": 6,
      "outputs": []
    },
    {
      "cell_type": "code",
      "source": [
        "len(file_list_jpg)"
      ],
      "metadata": {
        "colab": {
          "base_uri": "https://localhost:8080/"
        },
        "id": "yc3KaWmC9rO5",
        "outputId": "dd11a9b8-496f-4095-e928-fb2146156ef0"
      },
      "execution_count": 7,
      "outputs": [
        {
          "output_type": "execute_result",
          "data": {
            "text/plain": [
              "12500"
            ]
          },
          "metadata": {},
          "execution_count": 7
        }
      ]
    },
    {
      "cell_type": "markdown",
      "source": [
        "---"
      ],
      "metadata": {
        "id": "T9zV4wGqWt4t"
      }
    },
    {
      "cell_type": "markdown",
      "source": [
        "###파일 생성\n",
        "\n",
        "데이터를 옮겨 넣어줄 파일을 생성합니다."
      ],
      "metadata": {
        "id": "U-UCDQUlf4dk"
      }
    },
    {
      "cell_type": "code",
      "source": [
        "base_dir = '/content/drive/MyDrive/pic/last_data'\n",
        "os.mkdir(base_dir)\n",
        "\n",
        "#train, test 폴더 생성\n",
        "train_dir = os.path.join(base_dir, 'train')\n",
        "os.mkdir(train_dir)\n",
        "test_dir = os.path.join(base_dir, 'test')\n",
        "os.mkdir(test_dir)"
      ],
      "metadata": {
        "id": "jyKBPjYa9sZR"
      },
      "execution_count": 8,
      "outputs": []
    },
    {
      "cell_type": "code",
      "source": [
        "#train, test 폴더안에 이미지 폴더 생성\n",
        "images_dir = os.path.join(train_dir, 'dog')\n",
        "os.mkdir(images_dir)\n",
        "labels_dir = os.path.join(train_dir, 'cat')\n",
        "os.mkdir(labels_dir)\n",
        "\n",
        "images_dir2 = os.path.join(test_dir, 'dog')\n",
        "os.mkdir(images_dir2)\n",
        "labels_dir2 = os.path.join(test_dir, 'cat')\n",
        "os.mkdir(labels_dir2)"
      ],
      "metadata": {
        "id": "YfYILdwJ-B-I"
      },
      "execution_count": 9,
      "outputs": []
    },
    {
      "cell_type": "markdown",
      "source": [
        "---"
      ],
      "metadata": {
        "id": "kApQOPLhWvfl"
      }
    },
    {
      "cell_type": "markdown",
      "source": [
        "###데이터 옮기기(dog)\n",
        "\n",
        "현재 데이터는 test 데이터를 제외하고는 하나의 폴더에 개, 고양이 사진이\n",
        "\n",
        "한꺼번에 들어 있습니다.\n",
        "\n",
        "지금부터 데이터 분리 작업을 해보겠습니다."
      ],
      "metadata": {
        "id": "DowkS2Iqf-GU"
      }
    },
    {
      "cell_type": "code",
      "source": [
        "DIR_IN = \"/content/drive/MyDrive/pic/cat_dog/train\"\n",
        "\n",
        "file_list = os.listdir(DIR_IN)\n",
        "file_list_dog_jpg = [file for file in file_list if file.startswith(\"dog\", 0) and file.endswith(\".jpg\")]\n",
        "file_list_dog_jpg.sort()"
      ],
      "metadata": {
        "id": "RzGgPP7h-Txm"
      },
      "execution_count": 10,
      "outputs": []
    },
    {
      "cell_type": "code",
      "source": [
        "len(file_list_dog_jpg)"
      ],
      "metadata": {
        "colab": {
          "base_uri": "https://localhost:8080/"
        },
        "id": "shZxWUia-kOh",
        "outputId": "cca79ce8-db20-4976-964f-51fa4db8b0b6"
      },
      "execution_count": 11,
      "outputs": [
        {
          "output_type": "execute_result",
          "data": {
            "text/plain": [
              "12500"
            ]
          },
          "metadata": {},
          "execution_count": 11
        }
      ]
    },
    {
      "cell_type": "code",
      "source": [
        "import math\n",
        "\n",
        "#전체 데이터중 80 학습으로 20 테스트\n",
        "train_ima_size = math.floor(len(file_list_dog_jpg) * 0.8)\n",
        "test_ima_size = math.floor(len(file_list_dog_jpg) * 0.2)\n",
        "print(train_ima_size)\n",
        "print(test_ima_size)"
      ],
      "metadata": {
        "colab": {
          "base_uri": "https://localhost:8080/"
        },
        "id": "pYTUJzeh-mNd",
        "outputId": "339a7dc9-7d08-42b7-ee39-4f9680b5e8a0"
      },
      "execution_count": 12,
      "outputs": [
        {
          "output_type": "stream",
          "name": "stdout",
          "text": [
            "10000\n",
            "2500\n"
          ]
        }
      ]
    },
    {
      "cell_type": "code",
      "source": [
        "import shutil\n",
        "#속도를 높여주는 방법법\n",
        "def _copyfileobj_patched(fsrc, fdst, length=16*1024*1024):\n",
        "    while 1:\n",
        "        buf = fsrc.read(length)\n",
        "        if not buf:\n",
        "            break\n",
        "        fdst.write(buf)\n",
        "\n",
        "\n",
        "shutil.copyfileobj = _copyfileobj_patched "
      ],
      "metadata": {
        "id": "gDb5CEF4_GhI"
      },
      "execution_count": 13,
      "outputs": []
    },
    {
      "cell_type": "code",
      "source": [
        "tar = '/content/drive/MyDrive/pic/last_data/train/dog'\n",
        "\n",
        "#전체 데이터중 80퍼의 사진을 train/dog로 옮김\n",
        "for i in file_list_dog_jpg[:train_ima_size]:\n",
        "  src = os.path.join(DIR_IN, i)\n",
        "  shutil.move(src, tar)"
      ],
      "metadata": {
        "id": "BONVa7Ti_dQG"
      },
      "execution_count": 15,
      "outputs": []
    },
    {
      "cell_type": "code",
      "source": [
        "DIR_IN = \"/content/drive/MyDrive/pic/cat_dog/train\"\n",
        "\n",
        "file_list = os.listdir(DIR_IN)\n",
        "file_list_dog_jpg = [file for file in file_list if file.startswith(\"dog\", 0) and file.endswith(\".jpg\")]\n",
        "file_list_dog_jpg.sort()"
      ],
      "metadata": {
        "id": "vlu--_n3HGPt"
      },
      "execution_count": 19,
      "outputs": []
    },
    {
      "cell_type": "code",
      "source": [
        "len(file_list_dog_jpg)"
      ],
      "metadata": {
        "colab": {
          "base_uri": "https://localhost:8080/"
        },
        "id": "mCUynxycHI7Q",
        "outputId": "b6231843-60cb-46be-d15d-1641685f7836"
      },
      "execution_count": 20,
      "outputs": [
        {
          "output_type": "execute_result",
          "data": {
            "text/plain": [
              "2500"
            ]
          },
          "metadata": {},
          "execution_count": 20
        }
      ]
    },
    {
      "cell_type": "code",
      "source": [
        "tar = '/content/drive/MyDrive/pic/last_data/test/dog'\n",
        "\n",
        "#전체 데이터중 20퍼의 사진을 test/dog로 옮김\n",
        "for i in file_list_dog_jpg:\n",
        "  src = os.path.join(DIR_IN, i)\n",
        "  shutil.move(src, tar)"
      ],
      "metadata": {
        "id": "TNaJ40aD_uRo"
      },
      "execution_count": 21,
      "outputs": []
    },
    {
      "cell_type": "code",
      "source": [
        "DIR_IN = \"/content/drive/MyDrive/pic/last_data/train/dog\"\n",
        "\n",
        "file_list = os.listdir(DIR_IN)\n",
        "file_list_dog_jpg = [file for file in file_list if file.startswith(\"dog\", 0) and file.endswith(\".jpg\")]\n",
        "file_list_dog_jpg.sort()"
      ],
      "metadata": {
        "id": "7WodCuCoAYP6"
      },
      "execution_count": 28,
      "outputs": []
    },
    {
      "cell_type": "code",
      "source": [
        "len(file_list_dog_jpg)"
      ],
      "metadata": {
        "colab": {
          "base_uri": "https://localhost:8080/"
        },
        "id": "3E47SEk_Adpo",
        "outputId": "a3108e50-4a84-4f4e-b14f-ec6fa570e476"
      },
      "execution_count": 29,
      "outputs": [
        {
          "output_type": "execute_result",
          "data": {
            "text/plain": [
              "10000"
            ]
          },
          "metadata": {},
          "execution_count": 29
        }
      ]
    },
    {
      "cell_type": "code",
      "source": [
        "DIR_IN = \"/content/drive/MyDrive/pic/last_data/test/dog\"\n",
        "\n",
        "file_list = os.listdir(DIR_IN)\n",
        "file_list_dog_jpg = [file for file in file_list if file.startswith(\"dog\", 0) and file.endswith(\".jpg\")]\n",
        "file_list_dog_jpg.sort()"
      ],
      "metadata": {
        "id": "mfMvzivuABvr"
      },
      "execution_count": 30,
      "outputs": []
    },
    {
      "cell_type": "code",
      "source": [
        "len(file_list_dog_jpg)"
      ],
      "metadata": {
        "colab": {
          "base_uri": "https://localhost:8080/"
        },
        "id": "WWwaSTbYAWKu",
        "outputId": "1144cfda-77f4-484e-cd0a-5cf1b7269f07"
      },
      "execution_count": 31,
      "outputs": [
        {
          "output_type": "execute_result",
          "data": {
            "text/plain": [
              "2500"
            ]
          },
          "metadata": {},
          "execution_count": 31
        }
      ]
    },
    {
      "cell_type": "code",
      "source": [
        "DIR_IN = \"/content/drive/MyDrive/pic/cat_dog/train\"\n",
        "\n",
        "file_list = os.listdir(DIR_IN)\n",
        "file_list_dog_jpg = [file for file in file_list if file.startswith(\"dog\", 0) and file.endswith(\".jpg\")]\n",
        "file_list_dog_jpg.sort()"
      ],
      "metadata": {
        "id": "2TUSvobRAepr"
      },
      "execution_count": 32,
      "outputs": []
    },
    {
      "cell_type": "code",
      "source": [
        "len(file_list_dog_jpg)"
      ],
      "metadata": {
        "colab": {
          "base_uri": "https://localhost:8080/"
        },
        "id": "p9waLdVTB6pw",
        "outputId": "d93faea5-9f0c-4021-cee5-4a6bdd9ac6eb"
      },
      "execution_count": 33,
      "outputs": [
        {
          "output_type": "execute_result",
          "data": {
            "text/plain": [
              "0"
            ]
          },
          "metadata": {},
          "execution_count": 33
        }
      ]
    },
    {
      "cell_type": "markdown",
      "source": [
        "---"
      ],
      "metadata": {
        "id": "yT3juMlYWo5-"
      }
    },
    {
      "cell_type": "markdown",
      "source": [
        "###데이터 옮기기(cat)"
      ],
      "metadata": {
        "id": "gP-WmEUbgcB9"
      }
    },
    {
      "cell_type": "code",
      "source": [
        "DIR_IN = \"/content/drive/MyDrive/pic/cat_dog/train\"\n",
        "\n",
        "file_list = os.listdir(DIR_IN)\n",
        "file_list_cat_jpg = [file for file in file_list if file.startswith(\"cat\", 0) and file.endswith(\".jpg\")]\n",
        "file_list_cat_jpg.sort()"
      ],
      "metadata": {
        "id": "ie_ERplOB8Uw"
      },
      "execution_count": 34,
      "outputs": []
    },
    {
      "cell_type": "code",
      "source": [
        "len(file_list_cat_jpg)"
      ],
      "metadata": {
        "colab": {
          "base_uri": "https://localhost:8080/"
        },
        "id": "9cB7xgsEVtlb",
        "outputId": "79f28742-ed82-43d1-de84-11f542a9feea"
      },
      "execution_count": 35,
      "outputs": [
        {
          "output_type": "execute_result",
          "data": {
            "text/plain": [
              "12500"
            ]
          },
          "metadata": {},
          "execution_count": 35
        }
      ]
    },
    {
      "cell_type": "code",
      "source": [
        "tar = '/content/drive/MyDrive/pic/last_data/train/cat'\n",
        "\n",
        "#전체 데이터중 80퍼의 사진을 train/dog로 옮김\n",
        "for i in file_list_cat_jpg[:train_ima_size]:\n",
        "  src = os.path.join(DIR_IN, i)\n",
        "  shutil.move(src, tar)"
      ],
      "metadata": {
        "id": "Dp2jDbb9VwA6"
      },
      "execution_count": 36,
      "outputs": []
    },
    {
      "cell_type": "code",
      "source": [
        "DIR_IN = \"/content/drive/MyDrive/pic/cat_dog/train\"\n",
        "\n",
        "file_list = os.listdir(DIR_IN)\n",
        "file_list_cat_jpg = [file for file in file_list if file.startswith(\"cat\", 0) and file.endswith(\".jpg\")]\n",
        "file_list_cat_jpg.sort()"
      ],
      "metadata": {
        "id": "ZC7o4cTvW687"
      },
      "execution_count": 37,
      "outputs": []
    },
    {
      "cell_type": "code",
      "source": [
        "len(file_list_cat_jpg)"
      ],
      "metadata": {
        "colab": {
          "base_uri": "https://localhost:8080/"
        },
        "id": "VPhe3rLIYC5K",
        "outputId": "6459c0dd-36c5-45e6-a067-d3c2ffdc1bcd"
      },
      "execution_count": 38,
      "outputs": [
        {
          "output_type": "execute_result",
          "data": {
            "text/plain": [
              "2500"
            ]
          },
          "metadata": {},
          "execution_count": 38
        }
      ]
    },
    {
      "cell_type": "code",
      "source": [
        "tar = '/content/drive/MyDrive/pic/last_data/test/cat'\n",
        "\n",
        "#전체 데이터중 20퍼의 사진을 test/dog로 옮김\n",
        "for i in file_list_cat_jpg:\n",
        "  src = os.path.join(DIR_IN, i)\n",
        "  shutil.move(src, tar)"
      ],
      "metadata": {
        "id": "T2FMb2_uYEUz"
      },
      "execution_count": 62,
      "outputs": []
    },
    {
      "cell_type": "code",
      "source": [
        "DIR_IN = \"/content/drive/MyDrive/pic/last_data/train/cat\"\n",
        "\n",
        "file_list = os.listdir(DIR_IN)\n",
        "file_list_cat_jpg = [file for file in file_list if file.startswith(\"cat\", 0) and file.endswith(\".jpg\")]\n",
        "file_list_cat_jpg.sort()"
      ],
      "metadata": {
        "id": "yz5M3Gq2YRBF"
      },
      "execution_count": 43,
      "outputs": []
    },
    {
      "cell_type": "code",
      "source": [
        "len(file_list_cat_jpg)"
      ],
      "metadata": {
        "colab": {
          "base_uri": "https://localhost:8080/"
        },
        "outputId": "9dbf02f0-e55d-4e73-f278-0311ccb613a3",
        "id": "cTfY_mOoYRBG"
      },
      "execution_count": 44,
      "outputs": [
        {
          "output_type": "execute_result",
          "data": {
            "text/plain": [
              "10000"
            ]
          },
          "metadata": {},
          "execution_count": 44
        }
      ]
    },
    {
      "cell_type": "code",
      "source": [
        "DIR_IN = \"/content/drive/MyDrive/pic/last_data/test/dog\"\n",
        "\n",
        "file_list = os.listdir(DIR_IN)\n",
        "file_list_cat_jpg = [file for file in file_list if file.startswith(\"cat\", 0) and file.endswith(\".jpg\")]\n",
        "file_list_cat_jpg.sort()"
      ],
      "metadata": {
        "id": "A5dx7_4SYRBG"
      },
      "execution_count": 46,
      "outputs": []
    },
    {
      "cell_type": "code",
      "source": [
        "len(file_list_cat_jpg)"
      ],
      "metadata": {
        "colab": {
          "base_uri": "https://localhost:8080/"
        },
        "outputId": "8c78c9aa-c2fb-4260-9c1a-aa4892e88001",
        "id": "2fr9HhCGYRBG"
      },
      "execution_count": 47,
      "outputs": [
        {
          "output_type": "execute_result",
          "data": {
            "text/plain": [
              "2500"
            ]
          },
          "metadata": {},
          "execution_count": 47
        }
      ]
    },
    {
      "cell_type": "code",
      "source": [
        "DIR_IN = \"/content/drive/MyDrive/pic/cat_dog/train\"\n",
        "\n",
        "file_list = os.listdir(DIR_IN)\n",
        "file_list_cat_jpg = [file for file in file_list if file.startswith(\"cat\", 0) and file.endswith(\".jpg\")]\n",
        "file_list_cat_jpg.sort()"
      ],
      "metadata": {
        "id": "3lpjWNcxYRBG"
      },
      "execution_count": 48,
      "outputs": []
    },
    {
      "cell_type": "code",
      "source": [
        "len(file_list_cat_jpg)"
      ],
      "metadata": {
        "colab": {
          "base_uri": "https://localhost:8080/"
        },
        "outputId": "6b29e28f-7460-4ae8-d329-e2d4676d0777",
        "id": "-IhqCo-SYRBG"
      },
      "execution_count": 49,
      "outputs": [
        {
          "output_type": "execute_result",
          "data": {
            "text/plain": [
              "0"
            ]
          },
          "metadata": {},
          "execution_count": 49
        }
      ]
    },
    {
      "cell_type": "markdown",
      "source": [
        "---"
      ],
      "metadata": {
        "id": "EoMDhTfQYrG-"
      }
    },
    {
      "cell_type": "markdown",
      "source": [
        "###데이터 갯수 확인\n",
        "\n",
        "제대로 옮겨졌는지 데이터 갯수를 확인해보겠습니다."
      ],
      "metadata": {
        "id": "t77Pulkagf5a"
      }
    },
    {
      "cell_type": "code",
      "source": [
        "import os\n",
        "DIR_IN = \"/content/drive/MyDrive/pic/last_data/train/dog\"\n",
        "\n",
        "file_list = os.listdir(DIR_IN)\n",
        "file_list_jpg = [file for file in file_list]\n",
        "file_list_jpg.sort()"
      ],
      "metadata": {
        "id": "cD1g7R-gYp0e"
      },
      "execution_count": 3,
      "outputs": []
    },
    {
      "cell_type": "code",
      "source": [
        "len(file_list_jpg)"
      ],
      "metadata": {
        "colab": {
          "base_uri": "https://localhost:8080/"
        },
        "id": "9ROzHCoWY0aC",
        "outputId": "64c9bb88-277c-4113-eaf3-8a2dcdb68e7b"
      },
      "execution_count": 4,
      "outputs": [
        {
          "output_type": "execute_result",
          "data": {
            "text/plain": [
              "10000"
            ]
          },
          "metadata": {},
          "execution_count": 4
        }
      ]
    },
    {
      "cell_type": "code",
      "source": [
        "DIR_IN = \"/content/drive/MyDrive/pic/last_data/train/cat\"\n",
        "\n",
        "file_list = os.listdir(DIR_IN)\n",
        "file_list_jpg = [file for file in file_list]\n",
        "file_list_jpg.sort()"
      ],
      "metadata": {
        "id": "FBd8sqbxY2QM"
      },
      "execution_count": 5,
      "outputs": []
    },
    {
      "cell_type": "code",
      "source": [
        "len(file_list_jpg)"
      ],
      "metadata": {
        "colab": {
          "base_uri": "https://localhost:8080/"
        },
        "outputId": "64c9bb88-277c-4113-eaf3-8a2dcdb68e7b",
        "id": "MWJNZAyUeUcC"
      },
      "execution_count": null,
      "outputs": [
        {
          "output_type": "execute_result",
          "data": {
            "text/plain": [
              "10000"
            ]
          },
          "metadata": {},
          "execution_count": 4
        }
      ]
    },
    {
      "cell_type": "code",
      "source": [
        "DIR_IN = \"/content/drive/MyDrive/pic/last_data/test/dog\"\n",
        "\n",
        "file_list = os.listdir(DIR_IN)\n",
        "file_list_jpg = [file for file in file_list]\n",
        "file_list_jpg.sort()"
      ],
      "metadata": {
        "id": "7_2LGAu9Y8mQ"
      },
      "execution_count": 69,
      "outputs": []
    },
    {
      "cell_type": "code",
      "source": [
        "len(file_list_jpg)"
      ],
      "metadata": {
        "colab": {
          "base_uri": "https://localhost:8080/"
        },
        "id": "NnFuGD20Y_l4",
        "outputId": "489c10da-9d64-4099-f0ed-0b78f6d4a07f"
      },
      "execution_count": 70,
      "outputs": [
        {
          "output_type": "execute_result",
          "data": {
            "text/plain": [
              "2500"
            ]
          },
          "metadata": {},
          "execution_count": 70
        }
      ]
    },
    {
      "cell_type": "code",
      "source": [
        "DIR_IN = \"/content/drive/MyDrive/pic/last_data/test/cat\"\n",
        "\n",
        "file_list = os.listdir(DIR_IN)\n",
        "file_list_jpg = [file for file in file_list]\n",
        "file_list_jpg.sort()"
      ],
      "metadata": {
        "id": "6iq4N1PUZA19"
      },
      "execution_count": 71,
      "outputs": []
    },
    {
      "cell_type": "code",
      "source": [
        "len(file_list_jpg)"
      ],
      "metadata": {
        "colab": {
          "base_uri": "https://localhost:8080/"
        },
        "id": "1W7g04PvZDcW",
        "outputId": "55ef168d-3fae-4886-d3b5-31ec304456e0"
      },
      "execution_count": 72,
      "outputs": [
        {
          "output_type": "execute_result",
          "data": {
            "text/plain": [
              "2500"
            ]
          },
          "metadata": {},
          "execution_count": 72
        }
      ]
    },
    {
      "cell_type": "markdown",
      "source": [
        "---"
      ],
      "metadata": {
        "id": "nfaFR1vUZdiT"
      }
    },
    {
      "cell_type": "markdown",
      "source": [
        "###학습 데이터 만들기\n",
        "\n",
        "학습 데이터까지 제대로 만들어지는지 확인해봅시다.\n",
        "\n",
        "dog에 1만장, cat에 1만장이 있었으니 train 폴더에는 전체 2만장의 데이터가 있어야합니다."
      ],
      "metadata": {
        "id": "HuiHJcfpgo8e"
      }
    },
    {
      "cell_type": "code",
      "source": [
        "import numpy as np\n",
        "import PIL\n",
        "import cv2\n",
        "from glob import glob\n",
        "\n",
        "#root로 경로 지정 후 사이즈를 32, 32으로 만들어서 빈 리스트에 넣어줍니다.\n",
        "root = '/content/drive/MyDrive/pic/last_data/train/'\n",
        "training_images = []\n",
        "training_labels = []\n",
        "\n",
        "for filename in sorted(glob(root +\"*\")):\n",
        "    for img in glob(filename + \"/*.jpg\"):\n",
        "        an_img = PIL.Image.open(img)\n",
        "        img_array = np.array(an_img)\n",
        "        img_resize = cv2.resize(img_array, (32,32))\n",
        "        training_images.append(img_resize)\n",
        "        label = filename.split('\\\\')[-1]\n",
        "        training_labels.append(label)\n",
        "  \n",
        "training_images = np.array(training_images)\n",
        "training_labels = np.array(training_labels)\n",
        "\n",
        "#라벨 인코딩을 실시하여 숫자값을 가지게 해줍니다.\n",
        "\n",
        "from sklearn.preprocessing import LabelEncoder\n",
        "\n",
        "le = LabelEncoder()\n",
        "training_labels= le.fit_transform(training_labels)\n",
        "training_labels = training_labels.reshape(-1,1)\n",
        "\n",
        "print(training_images.shape)"
      ],
      "metadata": {
        "colab": {
          "base_uri": "https://localhost:8080/"
        },
        "id": "Da74gVQFZEY5",
        "outputId": "338bd624-13e3-44aa-94bd-33283183ac94"
      },
      "execution_count": 74,
      "outputs": [
        {
          "output_type": "stream",
          "name": "stdout",
          "text": [
            "(20000, 32, 32, 3)\n"
          ]
        }
      ]
    },
    {
      "cell_type": "code",
      "source": [
        "print(training_labels.shape)"
      ],
      "metadata": {
        "colab": {
          "base_uri": "https://localhost:8080/"
        },
        "id": "nJnz4jI6aCfP",
        "outputId": "76f128c6-58c6-492d-a1d6-ae6db1d6c8b7"
      },
      "execution_count": 75,
      "outputs": [
        {
          "output_type": "stream",
          "name": "stdout",
          "text": [
            "(20000, 1)\n"
          ]
        }
      ]
    },
    {
      "cell_type": "markdown",
      "source": [
        "----"
      ],
      "metadata": {
        "id": "OhEgVQ3bgv8c"
      }
    },
    {
      "cell_type": "markdown",
      "source": [
        "###테스트 데이터 만들기\n",
        "\n",
        "dog에 2500장, cat에 2500장이 있었으니 train 폴더에는 전체 5000장의 데이터가 있어야합니다."
      ],
      "metadata": {
        "id": "BagLlys3gxJs"
      }
    },
    {
      "cell_type": "code",
      "source": [
        "root = '/content/drive/MyDrive/pic/last_data/test/'\n",
        "test_images = []\n",
        "test_labels = []\n",
        "\n",
        "for filename in sorted(glob(root +\"*\")):\n",
        "    for img in glob(filename + \"/*.jpg\"):\n",
        "        an_img = PIL.Image.open(img)\n",
        "        img_array = np.array(an_img)\n",
        "        img_resize = cv2.resize(img_array, (30,30))\n",
        "        test_images.append(img_resize)\n",
        "        label = filename.split('\\\\')[-1]\n",
        "        test_labels.append(label)\n",
        "  \n",
        "test_images = np.array(test_images)\n",
        "test_labels = np.array(test_labels)\n",
        "\n",
        "from sklearn.preprocessing import LabelEncoder\n",
        "\n",
        "le1 = LabelEncoder()\n",
        "test_labels= le1.fit_transform(test_labels)\n",
        "test_labels = test_labels.reshape(-1,1)\n",
        "\n",
        "print(test_images.shape)\n",
        "print(test_labels.shape)"
      ],
      "metadata": {
        "colab": {
          "base_uri": "https://localhost:8080/"
        },
        "id": "MaG23avuanbm",
        "outputId": "bc0cd9a9-f0eb-42de-c595-322e2c8f5324"
      },
      "execution_count": 76,
      "outputs": [
        {
          "output_type": "stream",
          "name": "stdout",
          "text": [
            "(5000, 30, 30, 3)\n",
            "(5000, 1)\n"
          ]
        }
      ]
    },
    {
      "cell_type": "markdown",
      "source": [
        "###시각화 하여 확인"
      ],
      "metadata": {
        "id": "RexuqQIvg0iR"
      }
    },
    {
      "cell_type": "code",
      "source": [
        "import matplotlib.pyplot as plt\n",
        "\n",
        "for i in range(10):\n",
        "    plt.subplot(2, 5, i + 1)\n",
        "    plt.imshow(training_images[i*2000])\n",
        "    print(training_labels[i*2000], end=\",\")\n",
        "plt.show()"
      ],
      "metadata": {
        "colab": {
          "base_uri": "https://localhost:8080/",
          "height": 245
        },
        "id": "pQoyhXsMa3DA",
        "outputId": "16426a3d-1925-4aed-ab35-c8c37d461197"
      },
      "execution_count": 77,
      "outputs": [
        {
          "output_type": "stream",
          "name": "stdout",
          "text": [
            "[0],[0],[0],[0],[0],[1],[1],[1],[1],[1],"
          ]
        },
        {
          "output_type": "display_data",
          "data": {
            "text/plain": [
              "<Figure size 432x288 with 10 Axes>"
            ],
            "image/png": "[encoded data removed]"
          },
          "metadata": {
            "needs_background": "light"
          }
        }
      ]
    },
    {
      "cell_type": "code",
      "source": [
        "import matplotlib.pyplot as plt\n",
        "\n",
        "for i in range(10):\n",
        "    plt.subplot(2, 5, i + 1)\n",
        "    plt.imshow(test_images[i*500])\n",
        "    print(test_labels[i*500], end=\",\")\n",
        "plt.show()"
      ],
      "metadata": {
        "colab": {
          "base_uri": "https://localhost:8080/",
          "height": 245
        },
        "id": "05NlYUOYbMt1",
        "outputId": "fd9a707c-b9fe-4e1c-f956-72d3cf49be89"
      },
      "execution_count": 78,
      "outputs": [
        {
          "output_type": "stream",
          "name": "stdout",
          "text": [
            "[0],[0],[0],[0],[0],[1],[1],[1],[1],[1],"
          ]
        },
        {
          "output_type": "display_data",
          "data": {
            "text/plain": [
              "<Figure size 432x288 with 10 Axes>"
            ],
            "image/png": "[encoded data removed]"
          },
          "metadata": {
            "needs_background": "light"
          }
        }
      ]
    },
    {
      "cell_type": "markdown",
      "source": [
        "----"
      ],
      "metadata": {
        "id": "Z_LrAfATbcer"
      }
    }
  ]
}